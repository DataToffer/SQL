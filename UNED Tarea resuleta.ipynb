{
  "cells": [
    {
      "cell_type": "markdown",
      "id": "stainless-surface",
      "metadata": {
        "id": "stainless-surface"
      },
      "source": [
        "# Notebook 1 Ejemplos de Clase"
      ]
    },
    {
      "cell_type": "markdown",
      "id": "accompanied-nylon",
      "metadata": {
        "id": "accompanied-nylon"
      },
      "source": [
        "### Iniciar Sesión Spark (Intelligence)"
      ]
    },
    {
      "cell_type": "markdown",
      "id": "automotive-ready",
      "metadata": {
        "id": "automotive-ready"
      },
      "source": [
        "> If we are running this on google colab, we can run the following to eventually interact with our Spark UI."
      ]
    },
    {
      "cell_type": "markdown",
      "id": "varied-limitation",
      "metadata": {
        "id": "varied-limitation"
      },
      "source": [
        "* Begin by installing some pip packages and the java development kit."
      ]
    },
    {
      "cell_type": "code",
      "execution_count": null,
      "id": "narrow-calgary",
      "metadata": {
        "id": "narrow-calgary",
        "colab": {
          "base_uri": "https://localhost:8080/"
        },
        "outputId": "319682bd-cb81-42a6-969a-1e50a4ab5feb"
      },
      "outputs": [
        {
          "output_type": "stream",
          "name": "stdout",
          "text": [
            "\u001b[K     |████████████████████████████████| 281.4 MB 38 kB/s \n",
            "\u001b[K     |████████████████████████████████| 199 kB 46.5 MB/s \n",
            "\u001b[?25h  Building wheel for pyspark (setup.py) ... \u001b[?25l\u001b[?25hdone\n"
          ]
        }
      ],
      "source": [
        "!pip install pyspark --quiet\n",
        "!pip install -U -q PyDrive --quiet \n",
        "!apt install openjdk-8-jdk-headless &> /dev/null"
      ]
    },
    {
      "cell_type": "markdown",
      "id": "listed-brick",
      "metadata": {
        "id": "listed-brick"
      },
      "source": [
        "* Then set the java environmental variable"
      ]
    },
    {
      "cell_type": "code",
      "execution_count": null,
      "id": "complete-chase",
      "metadata": {
        "id": "complete-chase"
      },
      "outputs": [],
      "source": [
        "import os\n",
        "os.environ[\"JAVA_HOME\"] = \"/usr/lib/jvm/java-8-openjdk-amd64\""
      ]
    },
    {
      "cell_type": "markdown",
      "id": "voluntary-doctrine",
      "metadata": {
        "id": "voluntary-doctrine"
      },
      "source": [
        "* Then connect to a SparkSession, setting the spark ui port to `4050`."
      ]
    },
    {
      "cell_type": "code",
      "execution_count": null,
      "id": "suspected-progress",
      "metadata": {
        "id": "suspected-progress"
      },
      "outputs": [],
      "source": [
        "from pyspark.sql import SparkSession\n",
        "\n",
        "spark = SparkSession \\\n",
        "    .builder \\\n",
        "    .appName(\"civComplaints\") \\\n",
        "    .config(\"spark.ui.port\", \"4050\") \\\n",
        "    .getOrCreate()"
      ]
    },
    {
      "cell_type": "markdown",
      "id": "indoor-professional",
      "metadata": {
        "id": "indoor-professional"
      },
      "source": [
        "* Then we need to install ngrok which will allow us to place our local spark ui on the web."
      ]
    },
    {
      "cell_type": "code",
      "execution_count": null,
      "id": "anonymous-mercury",
      "metadata": {
        "id": "anonymous-mercury"
      },
      "outputs": [],
      "source": [
        "!wget https://bin.equinox.io/c/4VmDzA7iaHb/ngrok-stable-linux-amd64.zip &> /dev/null\n",
        "!unzip ngrok-stable-linux-amd64.zip &> /dev/null\n",
        "get_ipython().system_raw('./ngrok http 4050 &')"
      ]
    },
    {
      "cell_type": "markdown",
      "id": "collaborative-stuart",
      "metadata": {
        "id": "collaborative-stuart"
      },
      "source": [
        "* And finally we get a link our Spark UI"
      ]
    },
    {
      "cell_type": "code",
      "execution_count": null,
      "id": "hybrid-costa",
      "metadata": {
        "id": "hybrid-costa",
        "colab": {
          "base_uri": "https://localhost:8080/"
        },
        "outputId": "a9fe9c78-ce04-4c14-be79-57d85ecd11d3"
      },
      "outputs": [
        {
          "output_type": "stream",
          "name": "stdout",
          "text": [
            "https://4ea2-35-188-253-74.ngrok.io\n"
          ]
        }
      ],
      "source": [
        "!curl -s http://localhost:4040/api/tunnels | python3 -c \\\n",
        "    \"import sys, json; print(json.load(sys.stdin)['tunnels'][0]['public_url'])\""
      ]
    },
    {
      "cell_type": "markdown",
      "id": "mediterranean-czech",
      "metadata": {
        "id": "mediterranean-czech"
      },
      "source": [
        "### Lectura del archivo con Spark"
      ]
    },
    {
      "cell_type": "code",
      "execution_count": null,
      "id": "european-kidney",
      "metadata": {
        "id": "european-kidney"
      },
      "outputs": [],
      "source": [
        "import pandas as pd\n",
        "\n"
      ]
    },
    {
      "cell_type": "code",
      "execution_count": null,
      "id": "rolled-trainer",
      "metadata": {
        "id": "rolled-trainer",
        "colab": {
          "base_uri": "https://localhost:8080/"
        },
        "outputId": "b17f585f-e7f2-4649-ae63-6c947cdb7a80"
      },
      "outputs": [
        {
          "output_type": "stream",
          "name": "stdout",
          "text": [
            "root\n",
            " |-- Year: string (nullable = true)\n",
            " |-- City: string (nullable = true)\n",
            " |-- Sport: string (nullable = true)\n",
            " |-- Discipline: string (nullable = true)\n",
            " |-- Athlete: string (nullable = true)\n",
            " |-- Country: string (nullable = true)\n",
            " |-- Gender: string (nullable = true)\n",
            " |-- Event: string (nullable = true)\n",
            " |-- Medal: string (nullable = true)\n",
            "\n",
            "+----+--------+---------+----------+--------------------+-------+------+---------------+------+\n",
            "|Year|    City|    Sport|Discipline|             Athlete|Country|Gender|          Event| Medal|\n",
            "+----+--------+---------+----------+--------------------+-------+------+---------------+------+\n",
            "|1924|Chamonix| Biathlon|  Biathlon|         BERTHET, G.|    FRA|   Men|Military Patrol|Bronze|\n",
            "|1924|Chamonix| Biathlon|  Biathlon|      MANDRILLON, C.|    FRA|   Men|Military Patrol|Bronze|\n",
            "|1924|Chamonix| Biathlon|  Biathlon| MANDRILLON, Maurice|    FRA|   Men|Military Patrol|Bronze|\n",
            "|1924|Chamonix| Biathlon|  Biathlon|     VANDELLE, André|    FRA|   Men|Military Patrol|Bronze|\n",
            "|1924|Chamonix| Biathlon|  Biathlon|AUFDENBLATTEN, Adolf|    SUI|   Men|Military Patrol|  Gold|\n",
            "|1924|Chamonix| Biathlon|  Biathlon|     JULEN, Alphonse|    SUI|   Men|Military Patrol|  Gold|\n",
            "|1924|Chamonix| Biathlon|  Biathlon|         JULEN, Ant.|    SUI|   Men|Military Patrol|  Gold|\n",
            "|1924|Chamonix| Biathlon|  Biathlon|         VAUCHER, D.|    SUI|   Men|Military Patrol|  Gold|\n",
            "|1924|Chamonix| Biathlon|  Biathlon|        BREMER, V.E.|    FIN|   Men|Military Patrol|Silver|\n",
            "|1924|Chamonix| Biathlon|  Biathlon|       ESKELINEN, A.|    FIN|   Men|Military Patrol|Silver|\n",
            "|1924|Chamonix| Biathlon|  Biathlon|        HIRVONEN, H.|    FIN|   Men|Military Patrol|Silver|\n",
            "|1924|Chamonix| Biathlon|  Biathlon| LAPPALAINEN, Martti|    FIN|   Men|Military Patrol|Silver|\n",
            "|1924|Chamonix|Bobsleigh| Bobsleigh|      MORTIAUX, René|    BEL|   Men|       Four-Man|Bronze|\n",
            "|1924|Chamonix|Bobsleigh| Bobsleigh|     MULDER, Charles|    BEL|   Men|       Four-Man|Bronze|\n",
            "|1924|Chamonix|Bobsleigh| Bobsleigh|VAN DEN BROECK, Paul|    BEL|   Men|       Four-Man|Bronze|\n",
            "|1924|Chamonix|Bobsleigh| Bobsleigh| VERSCHUEREN, Victor|    BEL|   Men|       Four-Man|Bronze|\n",
            "|1924|Chamonix|Bobsleigh| Bobsleigh|     WILLIEMS, Henri|    BEL|   Men|       Four-Man|Bronze|\n",
            "|1924|Chamonix|Bobsleigh| Bobsleigh|       NEVEU, Alfred|    SUI|   Men|       Four-Man|  Gold|\n",
            "|1924|Chamonix|Bobsleigh| Bobsleigh|    SCHERRER, Eduard|    SUI|   Men|       Four-Man|  Gold|\n",
            "|1924|Chamonix|Bobsleigh| Bobsleigh|    SCHLÄPPI, Alfred|    SUI|   Men|       Four-Man|  Gold|\n",
            "+----+--------+---------+----------+--------------------+-------+------+---------------+------+\n",
            "only showing top 20 rows\n",
            "\n"
          ]
        }
      ],
      "source": [
        "ruta1 = pd.read_csv('/content/winter.csv').astype(str) \n",
        "myDF1= spark.createDataFrame(ruta1)\n",
        "myDF1.createOrReplaceTempView(\"winter\")\n",
        "myDF1.printSchema()\n",
        "myDF1.show()"
      ]
    },
    {
      "cell_type": "code",
      "execution_count": null,
      "metadata": {
        "colab": {
          "base_uri": "https://localhost:8080/"
        },
        "outputId": "bec5825c-58a2-4e7e-9f37-77c83ea8323e",
        "id": "zKnUnqDeuZ9s"
      },
      "outputs": [
        {
          "output_type": "stream",
          "name": "stdout",
          "text": [
            "root\n",
            " |-- Country: string (nullable = true)\n",
            " |-- Code: string (nullable = true)\n",
            " |-- Population: string (nullable = true)\n",
            " |-- GDP per Capita: string (nullable = true)\n",
            "\n",
            "+-------------------+----+-----------+----------------+\n",
            "|            Country|Code| Population|  GDP per Capita|\n",
            "+-------------------+----+-----------+----------------+\n",
            "|        Afghanistan| AFG| 32526562.0|594.323081219966|\n",
            "|            Albania| ALB|  2889167.0|3945.21758150914|\n",
            "|            Algeria| ALG| 39666519.0|4206.03123244958|\n",
            "|    American Samoa*| ASA|    55538.0|             nan|\n",
            "|            Andorra| AND|    70473.0|             nan|\n",
            "|             Angola| ANG| 25021974.0|4101.47215182964|\n",
            "|Antigua and Barbuda| ANT|    91818.0|13714.7319616988|\n",
            "|          Argentina| ARG| 43416755.0|13431.8783398577|\n",
            "|            Armenia| ARM|  3017712.0|3489.12768956995|\n",
            "|             Aruba*| ARU|   103889.0|             nan|\n",
            "|          Australia| AUS| 23781169.0|56310.9629933721|\n",
            "|            Austria| AUT|  8611088.0| 43774.985173612|\n",
            "|         Azerbaijan| AZE|  9651349.0|5496.34464026248|\n",
            "|            Bahamas| BAH|   388019.0|22817.2308572518|\n",
            "|            Bahrain| BRN|  1377237.0|22600.2140981035|\n",
            "|         Bangladesh| BAN|160995642.0|1211.70153057661|\n",
            "|           Barbados| BAR|   284215.0|15429.3404640853|\n",
            "|            Belarus| BLR|  9513000.0|5740.45649479562|\n",
            "|            Belgium| BEL| 11285721.0|40324.0277657215|\n",
            "|             Belize| BIZ|   359287.0|4878.72126724745|\n",
            "+-------------------+----+-----------+----------------+\n",
            "only showing top 20 rows\n",
            "\n"
          ]
        }
      ],
      "source": [
        "ruta2 = pd.read_csv('/content/dictionary.csv').astype(str) \n",
        "myDF2= spark.createDataFrame(ruta2)\n",
        "myDF2.createOrReplaceTempView(\"dictionary\")\n",
        "myDF2.printSchema()\n",
        "myDF2.show()"
      ],
      "id": "zKnUnqDeuZ9s"
    },
    {
      "cell_type": "markdown",
      "id": "ongoing-rebound",
      "metadata": {
        "id": "ongoing-rebound"
      },
      "source": [
        "### Ejemplos de clase"
      ]
    },
    {
      "cell_type": "code",
      "execution_count": null,
      "id": "assumed-investigator",
      "metadata": {
        "id": "assumed-investigator",
        "colab": {
          "base_uri": "https://localhost:8080/"
        },
        "outputId": "51cfb4fc-d276-4602-be16-e3d8807992bf"
      },
      "outputs": [
        {
          "output_type": "stream",
          "name": "stdout",
          "text": [
            "+----+--------+---------+----------+--------------------+-------+------+---------------+------+\n",
            "|Year|    City|    Sport|Discipline|             Athlete|Country|Gender|          Event| Medal|\n",
            "+----+--------+---------+----------+--------------------+-------+------+---------------+------+\n",
            "|1924|Chamonix| Biathlon|  Biathlon|         BERTHET, G.|    FRA|   Men|Military Patrol|Bronze|\n",
            "|1924|Chamonix| Biathlon|  Biathlon|      MANDRILLON, C.|    FRA|   Men|Military Patrol|Bronze|\n",
            "|1924|Chamonix| Biathlon|  Biathlon| MANDRILLON, Maurice|    FRA|   Men|Military Patrol|Bronze|\n",
            "|1924|Chamonix| Biathlon|  Biathlon|     VANDELLE, André|    FRA|   Men|Military Patrol|Bronze|\n",
            "|1924|Chamonix| Biathlon|  Biathlon|AUFDENBLATTEN, Adolf|    SUI|   Men|Military Patrol|  Gold|\n",
            "|1924|Chamonix| Biathlon|  Biathlon|     JULEN, Alphonse|    SUI|   Men|Military Patrol|  Gold|\n",
            "|1924|Chamonix| Biathlon|  Biathlon|         JULEN, Ant.|    SUI|   Men|Military Patrol|  Gold|\n",
            "|1924|Chamonix| Biathlon|  Biathlon|         VAUCHER, D.|    SUI|   Men|Military Patrol|  Gold|\n",
            "|1924|Chamonix| Biathlon|  Biathlon|        BREMER, V.E.|    FIN|   Men|Military Patrol|Silver|\n",
            "|1924|Chamonix| Biathlon|  Biathlon|       ESKELINEN, A.|    FIN|   Men|Military Patrol|Silver|\n",
            "|1924|Chamonix| Biathlon|  Biathlon|        HIRVONEN, H.|    FIN|   Men|Military Patrol|Silver|\n",
            "|1924|Chamonix| Biathlon|  Biathlon| LAPPALAINEN, Martti|    FIN|   Men|Military Patrol|Silver|\n",
            "|1924|Chamonix|Bobsleigh| Bobsleigh|      MORTIAUX, René|    BEL|   Men|       Four-Man|Bronze|\n",
            "|1924|Chamonix|Bobsleigh| Bobsleigh|     MULDER, Charles|    BEL|   Men|       Four-Man|Bronze|\n",
            "|1924|Chamonix|Bobsleigh| Bobsleigh|VAN DEN BROECK, Paul|    BEL|   Men|       Four-Man|Bronze|\n",
            "|1924|Chamonix|Bobsleigh| Bobsleigh| VERSCHUEREN, Victor|    BEL|   Men|       Four-Man|Bronze|\n",
            "|1924|Chamonix|Bobsleigh| Bobsleigh|     WILLIEMS, Henri|    BEL|   Men|       Four-Man|Bronze|\n",
            "|1924|Chamonix|Bobsleigh| Bobsleigh|       NEVEU, Alfred|    SUI|   Men|       Four-Man|  Gold|\n",
            "|1924|Chamonix|Bobsleigh| Bobsleigh|    SCHERRER, Eduard|    SUI|   Men|       Four-Man|  Gold|\n",
            "|1924|Chamonix|Bobsleigh| Bobsleigh|    SCHLÄPPI, Alfred|    SUI|   Men|       Four-Man|  Gold|\n",
            "+----+--------+---------+----------+--------------------+-------+------+---------------+------+\n",
            "only showing top 20 rows\n",
            "\n"
          ]
        }
      ],
      "source": [
        "# Ejemplos de clase\n",
        "spark.sql('''SELECT * \n",
        "            FROM winter''').show()"
      ]
    },
    {
      "cell_type": "code",
      "execution_count": null,
      "metadata": {
        "colab": {
          "base_uri": "https://localhost:8080/"
        },
        "outputId": "5e0e41eb-4e91-4780-9643-96f06ac26e42",
        "id": "7N9D0k3oVwy0"
      },
      "outputs": [
        {
          "output_type": "stream",
          "name": "stdout",
          "text": [
            "+----------------------+----+\n",
            "|City                  |Year|\n",
            "+----------------------+----+\n",
            "|Cortina d'Ampezzo     |1956|\n",
            "|Lake Placid           |1980|\n",
            "|Garmisch Partenkirchen|1936|\n",
            "|Innsbruck             |1964|\n",
            "|Chamonix              |1924|\n",
            "|Sapporo               |1972|\n",
            "|Squaw Valley          |1960|\n",
            "|St.Moritz             |1928|\n",
            "|Calgary               |1988|\n",
            "|St.Moritz             |1948|\n",
            "|Albertville           |1992|\n",
            "|Grenoble              |1968|\n",
            "|Innsbruck             |1976|\n",
            "|Oslo                  |1952|\n",
            "|Lillehammer           |1994|\n",
            "|Sarajevo              |1984|\n",
            "|Lake Placid           |1932|\n",
            "|Turin                 |2006|\n",
            "|Vancouver             |2010|\n",
            "|Sochi                 |2014|\n",
            "|Salt Lake City        |2002|\n",
            "|Nagano                |1998|\n",
            "+----------------------+----+\n",
            "\n"
          ]
        }
      ],
      "source": [
        "# Ejemplos de clase 2\n",
        "spark.sql('SELECT DISTINCT City, Year FROM winter').show(100, truncate= False)"
      ],
      "id": "7N9D0k3oVwy0"
    },
    {
      "cell_type": "code",
      "execution_count": null,
      "metadata": {
        "colab": {
          "base_uri": "https://localhost:8080/"
        },
        "outputId": "62ea596c-6c13-4d8e-d56c-d7c3ae900d26",
        "id": "J9YuO6P2l1_i"
      },
      "outputs": [
        {
          "output_type": "stream",
          "name": "stdout",
          "text": [
            "+----------------------+----+\n",
            "|City                  |Year|\n",
            "+----------------------+----+\n",
            "|Cortina d'Ampezzo     |1956|\n",
            "|Lake Placid           |1980|\n",
            "|Garmisch Partenkirchen|1936|\n",
            "|Innsbruck             |1964|\n",
            "|Chamonix              |1924|\n",
            "|Sapporo               |1972|\n",
            "|Squaw Valley          |1960|\n",
            "|St.Moritz             |1928|\n",
            "|Calgary               |1988|\n",
            "|St.Moritz             |1948|\n",
            "|Albertville           |1992|\n",
            "|Grenoble              |1968|\n",
            "|Innsbruck             |1976|\n",
            "|Oslo                  |1952|\n",
            "|Lillehammer           |1994|\n",
            "|Sarajevo              |1984|\n",
            "|Lake Placid           |1932|\n",
            "|Turin                 |2006|\n",
            "|Vancouver             |2010|\n",
            "|Sochi                 |2014|\n",
            "+----------------------+----+\n",
            "only showing top 20 rows\n",
            "\n"
          ]
        }
      ],
      "source": [
        "# Ejemplos de clase 2\n",
        "spark.sql('SELECT DISTINCT City, Year FROM winter').show(truncate= False)"
      ],
      "id": "J9YuO6P2l1_i"
    },
    {
      "cell_type": "code",
      "execution_count": null,
      "metadata": {
        "colab": {
          "base_uri": "https://localhost:8080/"
        },
        "outputId": "fbc41e06-89b9-4f10-eb3b-5faf5b269625",
        "id": "9tf2drFufslj"
      },
      "outputs": [
        {
          "output_type": "stream",
          "name": "stdout",
          "text": [
            "+----+--------+------------------------------+----+\n",
            "|Año |Sede    |Deportista                    |País|\n",
            "+----+--------+------------------------------+----+\n",
            "|1924|Chamonix|BERTHET, G.                   |FRA |\n",
            "|1924|Chamonix|MANDRILLON, C.                |FRA |\n",
            "|1924|Chamonix|MANDRILLON, Maurice           |FRA |\n",
            "|1924|Chamonix|VANDELLE, André               |FRA |\n",
            "|1924|Chamonix|AUFDENBLATTEN, Adolf          |SUI |\n",
            "|1924|Chamonix|JULEN, Alphonse               |SUI |\n",
            "|1924|Chamonix|JULEN, Ant.                   |SUI |\n",
            "|1924|Chamonix|VAUCHER, D.                   |SUI |\n",
            "|1924|Chamonix|BREMER, V.E.                  |FIN |\n",
            "|1924|Chamonix|ESKELINEN, A.                 |FIN |\n",
            "|1924|Chamonix|HIRVONEN, H.                  |FIN |\n",
            "|1924|Chamonix|LAPPALAINEN, Martti           |FIN |\n",
            "|1924|Chamonix|MORTIAUX, René                |BEL |\n",
            "|1924|Chamonix|MULDER, Charles               |BEL |\n",
            "|1924|Chamonix|VAN DEN BROECK, Paul          |BEL |\n",
            "|1924|Chamonix|VERSCHUEREN, Victor           |BEL |\n",
            "|1924|Chamonix|WILLIEMS, Henri               |BEL |\n",
            "|1924|Chamonix|NEVEU, Alfred                 |SUI |\n",
            "|1924|Chamonix|SCHERRER, Eduard              |SUI |\n",
            "|1924|Chamonix|SCHLÄPPI, Alfred              |SUI |\n",
            "|1924|Chamonix|SCHLÄPPI, Heinrich            |SUI |\n",
            "|1924|Chamonix|ARNOLD, Thomas                |GBR |\n",
            "|1924|Chamonix|BROOME, Ralpf                 |GBR |\n",
            "|1924|Chamonix|RICHARDSON, Alexander         |GBR |\n",
            "|1924|Chamonix|SOHER, Rodney                 |GBR |\n",
            "|1924|Chamonix|ALDEERT, H.                   |FRA |\n",
            "|1924|Chamonix|ANDRE, Georges                |FRA |\n",
            "|1924|Chamonix|BENEDIC                       |FRA |\n",
            "|1924|Chamonix|CANIVET, P.                   |FRA |\n",
            "|1924|Chamonix|COURNOLLET, F.                |FRA |\n",
            "|1924|Chamonix|PLANQUE, R.                   |FRA |\n",
            "|1924|Chamonix|AIKMAN, T.                    |GBR |\n",
            "|1924|Chamonix|ASTLEY, D.-G.                 |GBR |\n",
            "|1924|Chamonix|BROWN, V.                     |GBR |\n",
            "|1924|Chamonix|COUSIN, R.                    |GBR |\n",
            "|1924|Chamonix|JACKSON, V.-K.                |GBR |\n",
            "|1924|Chamonix|MC LEOD, J.                   |GBR |\n",
            "|1924|Chamonix|MURRAY, T.-B.                 |GBR |\n",
            "|1924|Chamonix|WELSH, R.                     |GBR |\n",
            "|1924|Chamonix|AHLEN, J.P.                   |SWE |\n",
            "|1924|Chamonix|KRONLUND, Carl Augustus Verner|SWE |\n",
            "|1924|Chamonix|ODLUND, T.-M.                 |SWE |\n",
            "|1924|Chamonix|PETERSEN, C.-W.               |SWE |\n",
            "|1924|Chamonix|PETTERSSON, C.-A.-F.          |SWE |\n",
            "|1924|Chamonix|SEVERIN, E.-O.                |SWE |\n",
            "|1924|Chamonix|WAHLBERG, K.-E.               |SWE |\n",
            "|1924|Chamonix|WETTERSTROM, V.-E.            |SWE |\n",
            "|1924|Chamonix|ANDERSON, William             |GBR |\n",
            "|1924|Chamonix|BOULDEN, C.-B.                |GBR |\n",
            "|1924|Chamonix|CARR-HARRIS, Louis Howland    |GBR |\n",
            "|1924|Chamonix|CARRUTHERS, Colin Gordon      |GBR |\n",
            "|1924|Chamonix|CARRUTHERS, Eric Dudley       |GBR |\n",
            "|1924|Chamonix|CLARKSON, Guy E.              |GBR |\n",
            "|1924|Chamonix|CUTHBERT, Ross George         |GBR |\n",
            "|1924|Chamonix|HOLMES, George                |GBR |\n",
            "|1924|Chamonix|JUKES, Hamilton               |GBR |\n",
            "|1924|Chamonix|PATTON, B.-N.                 |GBR |\n",
            "|1924|Chamonix|PITBLADO, Edward              |GBR |\n",
            "|1924|Chamonix|SEXTON, Blane Nathaniel       |GBR |\n",
            "|1924|Chamonix|CAMERON, Jack                 |CAN |\n",
            "|1924|Chamonix|COLLETT, Ernest J.            |CAN |\n",
            "|1924|Chamonix|MAC CAFFERY, Albert           |CAN |\n",
            "|1924|Chamonix|MAC MUNN, Harold              |CAN |\n",
            "|1924|Chamonix|MUNRO, Duncan                 |CAN |\n",
            "|1924|Chamonix|RAMSAY, W.-Beattie            |CAN |\n",
            "|1924|Chamonix|SLATER, Cyril                 |CAN |\n",
            "|1924|Chamonix|SMITH, Reginald               |CAN |\n",
            "|1924|Chamonix|WATSON, Harry                 |CAN |\n",
            "|1924|Chamonix|ABEL, Clarence John           |USA |\n",
            "|1924|Chamonix|DRURY, Herbert L.             |USA |\n",
            "|1924|Chamonix|GERAN, N.                     |USA |\n",
            "|1924|Chamonix|LACROIX, Alphonse             |USA |\n",
            "|1924|Chamonix|LANGLEY, John Arthur          |USA |\n",
            "|1924|Chamonix|LYONS, John Sharkey           |USA |\n",
            "|1924|Chamonix|MAC CARTHY, Justin            |USA |\n",
            "|1924|Chamonix|RICE, Willard                 |USA |\n",
            "|1924|Chamonix|SMALL, Irving Wheeler         |USA |\n",
            "|1924|Chamonix|SYNNOTT, Francis Allen        |USA |\n",
            "|1924|Chamonix|GAUTSCHI, Georges             |SUI |\n",
            "|1924|Chamonix|GRAFSTRÖM, Gillis             |SWE |\n",
            "|1924|Chamonix|BÖCKL, Willy                  |AUT |\n",
            "|1924|Chamonix|MUCKELT, Ethel                |GBR |\n",
            "|1924|Chamonix|SZABO-PLANK, Herma            |AUT |\n",
            "|1924|Chamonix|LOUGHRAN, Beatrix             |USA |\n",
            "|1924|Chamonix|BRUNET, Andrée                |FRA |\n",
            "|1924|Chamonix|BRUNET, Pierre                |FRA |\n",
            "|1924|Chamonix|BERGER, Alfred                |AUT |\n",
            "|1924|Chamonix|ENGELMANN, Helene             |AUT |\n",
            "|1924|Chamonix|JAKOBSSON, Ludowika           |FIN |\n",
            "|1924|Chamonix|JAKOBSSON, Walter             |FIN |\n",
            "|1924|Chamonix|LARSEN, Roald                 |NOR |\n",
            "|1924|Chamonix|SKUTNABB, Julius              |FIN |\n",
            "|1924|Chamonix|THUNBERG, Clas                |FIN |\n",
            "|1924|Chamonix|MOEN, Sigurd                  |NOR |\n",
            "|1924|Chamonix|THUNBERG, Clas                |FIN |\n",
            "|1924|Chamonix|LARSEN, Roald                 |NOR |\n",
            "|1924|Chamonix|LARSEN, Roald                 |NOR |\n",
            "|1924|Chamonix|THUNBERG, Clas                |FIN |\n",
            "|1924|Chamonix|SKUTNABB, Julius              |FIN |\n",
            "|1924|Chamonix|THUNBERG, Clas                |FIN |\n",
            "+----+--------+------------------------------+----+\n",
            "only showing top 100 rows\n",
            "\n"
          ]
        }
      ],
      "source": [
        "# Ejemplos de clase 3\n",
        "spark.sql('''SELECT Year AS `Año`, City AS Sede, Athlete AS Deportista, Country AS `País`\n",
        "            FROM winter\n",
        "''').show(100, truncate= False)"
      ],
      "id": "9tf2drFufslj"
    },
    {
      "cell_type": "code",
      "execution_count": null,
      "metadata": {
        "colab": {
          "base_uri": "https://localhost:8080/"
        },
        "outputId": "00dd07ff-c52d-46e0-b5ec-e48351700302",
        "id": "_PxsfbawitPQ"
      },
      "outputs": [
        {
          "output_type": "stream",
          "name": "stdout",
          "text": [
            "+--------------------+---------------------------------+\n",
            "|Atleta              |Prueba realizada                 |\n",
            "+--------------------+---------------------------------+\n",
            "|BERTHET, G.         |Biathlon-Biathlon/Military Patrol|\n",
            "|MANDRILLON, C.      |Biathlon-Biathlon/Military Patrol|\n",
            "|MANDRILLON, Maurice |Biathlon-Biathlon/Military Patrol|\n",
            "|VANDELLE, André     |Biathlon-Biathlon/Military Patrol|\n",
            "|AUFDENBLATTEN, Adolf|Biathlon-Biathlon/Military Patrol|\n",
            "|JULEN, Alphonse     |Biathlon-Biathlon/Military Patrol|\n",
            "|JULEN, Ant.         |Biathlon-Biathlon/Military Patrol|\n",
            "|VAUCHER, D.         |Biathlon-Biathlon/Military Patrol|\n",
            "|BREMER, V.E.        |Biathlon-Biathlon/Military Patrol|\n",
            "|ESKELINEN, A.       |Biathlon-Biathlon/Military Patrol|\n",
            "|HIRVONEN, H.        |Biathlon-Biathlon/Military Patrol|\n",
            "|LAPPALAINEN, Martti |Biathlon-Biathlon/Military Patrol|\n",
            "|MORTIAUX, René      |Bobsleigh-Bobsleigh/Four-Man     |\n",
            "|MULDER, Charles     |Bobsleigh-Bobsleigh/Four-Man     |\n",
            "|VAN DEN BROECK, Paul|Bobsleigh-Bobsleigh/Four-Man     |\n",
            "|VERSCHUEREN, Victor |Bobsleigh-Bobsleigh/Four-Man     |\n",
            "|WILLIEMS, Henri     |Bobsleigh-Bobsleigh/Four-Man     |\n",
            "|NEVEU, Alfred       |Bobsleigh-Bobsleigh/Four-Man     |\n",
            "|SCHERRER, Eduard    |Bobsleigh-Bobsleigh/Four-Man     |\n",
            "|SCHLÄPPI, Alfred    |Bobsleigh-Bobsleigh/Four-Man     |\n",
            "+--------------------+---------------------------------+\n",
            "only showing top 20 rows\n",
            "\n"
          ]
        }
      ],
      "source": [
        "# Ejemplos de clase 4\n",
        "spark.sql('''SELECT Athlete Atleta, \n",
        "                    CONCAT(Sport,\"-\",Discipline, \"/\", Event) AS `Prueba realizada` \n",
        "            FROM winter\n",
        "''').show(truncate= False)"
      ],
      "id": "_PxsfbawitPQ"
    },
    {
      "cell_type": "code",
      "execution_count": null,
      "metadata": {
        "colab": {
          "base_uri": "https://localhost:8080/"
        },
        "outputId": "d1891fe2-0591-4139-bb8a-a440d7d035c3",
        "id": "LLSF51xHkWhD"
      },
      "outputs": [
        {
          "output_type": "stream",
          "name": "stdout",
          "text": [
            "+--------------------+---------------------------------+\n",
            "|Atleta              |Prueba realizada                 |\n",
            "+--------------------+---------------------------------+\n",
            "|BERTHET, G.         |Biathlon-Biathlon/Military Patrol|\n",
            "|MANDRILLON, C.      |Biathlon-Biathlon/Military Patrol|\n",
            "|MANDRILLON, Maurice |Biathlon-Biathlon/Military Patrol|\n",
            "|VANDELLE, André     |Biathlon-Biathlon/Military Patrol|\n",
            "|AUFDENBLATTEN, Adolf|Biathlon-Biathlon/Military Patrol|\n",
            "|JULEN, Alphonse     |Biathlon-Biathlon/Military Patrol|\n",
            "|JULEN, Ant.         |Biathlon-Biathlon/Military Patrol|\n",
            "|VAUCHER, D.         |Biathlon-Biathlon/Military Patrol|\n",
            "|BREMER, V.E.        |Biathlon-Biathlon/Military Patrol|\n",
            "|ESKELINEN, A.       |Biathlon-Biathlon/Military Patrol|\n",
            "|HIRVONEN, H.        |Biathlon-Biathlon/Military Patrol|\n",
            "|LAPPALAINEN, Martti |Biathlon-Biathlon/Military Patrol|\n",
            "|MORTIAUX, René      |Bobsleigh-Bobsleigh/Four-Man     |\n",
            "|MULDER, Charles     |Bobsleigh-Bobsleigh/Four-Man     |\n",
            "|VAN DEN BROECK, Paul|Bobsleigh-Bobsleigh/Four-Man     |\n",
            "|VERSCHUEREN, Victor |Bobsleigh-Bobsleigh/Four-Man     |\n",
            "|WILLIEMS, Henri     |Bobsleigh-Bobsleigh/Four-Man     |\n",
            "|NEVEU, Alfred       |Bobsleigh-Bobsleigh/Four-Man     |\n",
            "|SCHERRER, Eduard    |Bobsleigh-Bobsleigh/Four-Man     |\n",
            "|SCHLÄPPI, Alfred    |Bobsleigh-Bobsleigh/Four-Man     |\n",
            "+--------------------+---------------------------------+\n",
            "only showing top 20 rows\n",
            "\n"
          ]
        }
      ],
      "source": [
        "# Ejemplos de clase 5\n",
        "spark.sql('''SELECT Athlete Atleta, \n",
        "                    CONCAT(Sport,\"-\",Discipline, \"/\", Event) AS `Prueba realizada` \n",
        "            FROM winter\n",
        "''').show(truncate= False)"
      ],
      "id": "LLSF51xHkWhD"
    },
    {
      "cell_type": "code",
      "execution_count": null,
      "metadata": {
        "colab": {
          "base_uri": "https://localhost:8080/"
        },
        "outputId": "d76f73e9-5cc1-4a99-e36f-4ef8c85e6d9f",
        "id": "yfTdHuqYmI8R"
      },
      "outputs": [
        {
          "output_type": "stream",
          "name": "stdout",
          "text": [
            "+--------------------+----+\n",
            "|Ganadores de oro    |País|\n",
            "+--------------------+----+\n",
            "|AUFDENBLATTEN, Adolf|SUI |\n",
            "|JULEN, Alphonse     |SUI |\n",
            "|JULEN, Ant.         |SUI |\n",
            "|VAUCHER, D.         |SUI |\n",
            "|NEVEU, Alfred       |SUI |\n",
            "|SCHERRER, Eduard    |SUI |\n",
            "|SCHLÄPPI, Alfred    |SUI |\n",
            "|SCHLÄPPI, Heinrich  |SUI |\n",
            "|AIKMAN, T.          |GBR |\n",
            "|ASTLEY, D.-G.       |GBR |\n",
            "|BROWN, V.           |GBR |\n",
            "|COUSIN, R.          |GBR |\n",
            "|JACKSON, V.-K.      |GBR |\n",
            "|MC LEOD, J.         |GBR |\n",
            "|MURRAY, T.-B.       |GBR |\n",
            "|WELSH, R.           |GBR |\n",
            "|CAMERON, Jack       |CAN |\n",
            "|COLLETT, Ernest J.  |CAN |\n",
            "|MAC CAFFERY, Albert |CAN |\n",
            "|MAC MUNN, Harold    |CAN |\n",
            "+--------------------+----+\n",
            "only showing top 20 rows\n",
            "\n"
          ]
        }
      ],
      "source": [
        "# Ejemplos de clase 6: WHERE\n",
        "spark.sql('''SELECT Athlete AS `Ganadores de oro`, Country AS `País` \n",
        "            FROM winter\n",
        "            WHERE Medal=\"Gold\"\n",
        "''').show(truncate= False)"
      ],
      "id": "yfTdHuqYmI8R"
    },
    {
      "cell_type": "code",
      "execution_count": null,
      "metadata": {
        "colab": {
          "base_uri": "https://localhost:8080/"
        },
        "outputId": "3800260b-f128-49a1-e76e-16d7cf16a11b",
        "id": "4Vm9ZgD4opiB"
      },
      "outputs": [
        {
          "output_type": "stream",
          "name": "stdout",
          "text": [
            "+----+-----------+------+-------------+--------------------------+-------+------+------+------+\n",
            "|Year|City       |Sport |Discipline   |Athlete                   |Country|Gender|Event |Medal |\n",
            "+----+-----------+------+-------------+--------------------------+-------+------+------+------+\n",
            "|1972|Sapporo    |Skiing|Alpine Skiing|FERNANDEZ OCHOA, Francisco|ESP    |Men   |Slalom|Gold  |\n",
            "|1992|Albertville|Skiing|Alpine Skiing|FERNANDEZ OCHOA, Blanca   |ESP    |Women |Slalom|Bronze|\n",
            "+----+-----------+------+-------------+--------------------------+-------+------+------+------+\n",
            "\n",
            "+----+--------+---------+----------+--------------------+-------+------+---------------+------+\n",
            "|Year|City    |Sport    |Discipline|Athlete             |Country|Gender|Event          |Medal |\n",
            "+----+--------+---------+----------+--------------------+-------+------+---------------+------+\n",
            "|1924|Chamonix|Biathlon |Biathlon  |BERTHET, G.         |FRA    |Men   |Military Patrol|Bronze|\n",
            "|1924|Chamonix|Biathlon |Biathlon  |MANDRILLON, C.      |FRA    |Men   |Military Patrol|Bronze|\n",
            "|1924|Chamonix|Biathlon |Biathlon  |MANDRILLON, Maurice |FRA    |Men   |Military Patrol|Bronze|\n",
            "|1924|Chamonix|Biathlon |Biathlon  |VANDELLE, André     |FRA    |Men   |Military Patrol|Bronze|\n",
            "|1924|Chamonix|Biathlon |Biathlon  |AUFDENBLATTEN, Adolf|SUI    |Men   |Military Patrol|Gold  |\n",
            "|1924|Chamonix|Biathlon |Biathlon  |JULEN, Alphonse     |SUI    |Men   |Military Patrol|Gold  |\n",
            "|1924|Chamonix|Biathlon |Biathlon  |JULEN, Ant.         |SUI    |Men   |Military Patrol|Gold  |\n",
            "|1924|Chamonix|Biathlon |Biathlon  |VAUCHER, D.         |SUI    |Men   |Military Patrol|Gold  |\n",
            "|1924|Chamonix|Biathlon |Biathlon  |BREMER, V.E.        |FIN    |Men   |Military Patrol|Silver|\n",
            "|1924|Chamonix|Biathlon |Biathlon  |ESKELINEN, A.       |FIN    |Men   |Military Patrol|Silver|\n",
            "|1924|Chamonix|Biathlon |Biathlon  |HIRVONEN, H.        |FIN    |Men   |Military Patrol|Silver|\n",
            "|1924|Chamonix|Biathlon |Biathlon  |LAPPALAINEN, Martti |FIN    |Men   |Military Patrol|Silver|\n",
            "|1924|Chamonix|Bobsleigh|Bobsleigh |MORTIAUX, René      |BEL    |Men   |Four-Man       |Bronze|\n",
            "|1924|Chamonix|Bobsleigh|Bobsleigh |MULDER, Charles     |BEL    |Men   |Four-Man       |Bronze|\n",
            "|1924|Chamonix|Bobsleigh|Bobsleigh |VAN DEN BROECK, Paul|BEL    |Men   |Four-Man       |Bronze|\n",
            "|1924|Chamonix|Bobsleigh|Bobsleigh |VERSCHUEREN, Victor |BEL    |Men   |Four-Man       |Bronze|\n",
            "|1924|Chamonix|Bobsleigh|Bobsleigh |WILLIEMS, Henri     |BEL    |Men   |Four-Man       |Bronze|\n",
            "|1924|Chamonix|Bobsleigh|Bobsleigh |NEVEU, Alfred       |SUI    |Men   |Four-Man       |Gold  |\n",
            "|1924|Chamonix|Bobsleigh|Bobsleigh |SCHERRER, Eduard    |SUI    |Men   |Four-Man       |Gold  |\n",
            "|1924|Chamonix|Bobsleigh|Bobsleigh |SCHLÄPPI, Alfred    |SUI    |Men   |Four-Man       |Gold  |\n",
            "+----+--------+---------+----------+--------------------+-------+------+---------------+------+\n",
            "only showing top 20 rows\n",
            "\n",
            "+----+--------+---------+----------+--------------------+-------+------+---------------+------+\n",
            "|Year|City    |Sport    |Discipline|Athlete             |Country|Gender|Event          |Medal |\n",
            "+----+--------+---------+----------+--------------------+-------+------+---------------+------+\n",
            "|1924|Chamonix|Biathlon |Biathlon  |BERTHET, G.         |FRA    |Men   |Military Patrol|Bronze|\n",
            "|1924|Chamonix|Biathlon |Biathlon  |MANDRILLON, C.      |FRA    |Men   |Military Patrol|Bronze|\n",
            "|1924|Chamonix|Biathlon |Biathlon  |MANDRILLON, Maurice |FRA    |Men   |Military Patrol|Bronze|\n",
            "|1924|Chamonix|Biathlon |Biathlon  |VANDELLE, André     |FRA    |Men   |Military Patrol|Bronze|\n",
            "|1924|Chamonix|Biathlon |Biathlon  |AUFDENBLATTEN, Adolf|SUI    |Men   |Military Patrol|Gold  |\n",
            "|1924|Chamonix|Biathlon |Biathlon  |JULEN, Alphonse     |SUI    |Men   |Military Patrol|Gold  |\n",
            "|1924|Chamonix|Biathlon |Biathlon  |JULEN, Ant.         |SUI    |Men   |Military Patrol|Gold  |\n",
            "|1924|Chamonix|Biathlon |Biathlon  |VAUCHER, D.         |SUI    |Men   |Military Patrol|Gold  |\n",
            "|1924|Chamonix|Biathlon |Biathlon  |BREMER, V.E.        |FIN    |Men   |Military Patrol|Silver|\n",
            "|1924|Chamonix|Biathlon |Biathlon  |ESKELINEN, A.       |FIN    |Men   |Military Patrol|Silver|\n",
            "|1924|Chamonix|Biathlon |Biathlon  |HIRVONEN, H.        |FIN    |Men   |Military Patrol|Silver|\n",
            "|1924|Chamonix|Biathlon |Biathlon  |LAPPALAINEN, Martti |FIN    |Men   |Military Patrol|Silver|\n",
            "|1924|Chamonix|Bobsleigh|Bobsleigh |MORTIAUX, René      |BEL    |Men   |Four-Man       |Bronze|\n",
            "|1924|Chamonix|Bobsleigh|Bobsleigh |MULDER, Charles     |BEL    |Men   |Four-Man       |Bronze|\n",
            "|1924|Chamonix|Bobsleigh|Bobsleigh |VAN DEN BROECK, Paul|BEL    |Men   |Four-Man       |Bronze|\n",
            "|1924|Chamonix|Bobsleigh|Bobsleigh |VERSCHUEREN, Victor |BEL    |Men   |Four-Man       |Bronze|\n",
            "|1924|Chamonix|Bobsleigh|Bobsleigh |WILLIEMS, Henri     |BEL    |Men   |Four-Man       |Bronze|\n",
            "|1924|Chamonix|Bobsleigh|Bobsleigh |NEVEU, Alfred       |SUI    |Men   |Four-Man       |Gold  |\n",
            "|1924|Chamonix|Bobsleigh|Bobsleigh |SCHERRER, Eduard    |SUI    |Men   |Four-Man       |Gold  |\n",
            "|1924|Chamonix|Bobsleigh|Bobsleigh |SCHLÄPPI, Alfred    |SUI    |Men   |Four-Man       |Gold  |\n",
            "+----+--------+---------+----------+--------------------+-------+------+---------------+------+\n",
            "only showing top 20 rows\n",
            "\n"
          ]
        }
      ],
      "source": [
        "# Ejemplos de clase 7: WHERE\n",
        "spark.sql('''SELECT * \n",
        "            FROM winter\n",
        "            WHERE Country=\"ESP\"\n",
        "''').show(5, truncate= False)\n",
        "\n",
        "spark.sql('''SELECT * \n",
        "            FROM winter\n",
        "            WHERE Country<>\"ESP\"\n",
        "''').show(truncate= False)\n",
        "\n",
        "spark.sql('''SELECT * \n",
        "            FROM winter\n",
        "            WHERE Country!=\"ESP\"\n",
        "''').show(truncate= False)"
      ],
      "id": "4Vm9ZgD4opiB"
    },
    {
      "cell_type": "code",
      "execution_count": null,
      "metadata": {
        "colab": {
          "base_uri": "https://localhost:8080/"
        },
        "outputId": "60da3052-bc9c-480d-c9a8-c278ac10edda",
        "id": "fLyIZtEiowSv"
      },
      "outputs": [
        {
          "output_type": "stream",
          "name": "stdout",
          "text": [
            "+----+--------+---------+----------+--------------------+-------+------+---------------+------+\n",
            "|Year|City    |Sport    |Discipline|Athlete             |Country|Gender|Event          |Medal |\n",
            "+----+--------+---------+----------+--------------------+-------+------+---------------+------+\n",
            "|1924|Chamonix|Biathlon |Biathlon  |BERTHET, G.         |FRA    |Men   |Military Patrol|Bronze|\n",
            "|1924|Chamonix|Biathlon |Biathlon  |MANDRILLON, C.      |FRA    |Men   |Military Patrol|Bronze|\n",
            "|1924|Chamonix|Biathlon |Biathlon  |MANDRILLON, Maurice |FRA    |Men   |Military Patrol|Bronze|\n",
            "|1924|Chamonix|Biathlon |Biathlon  |VANDELLE, André     |FRA    |Men   |Military Patrol|Bronze|\n",
            "|1924|Chamonix|Biathlon |Biathlon  |AUFDENBLATTEN, Adolf|SUI    |Men   |Military Patrol|Gold  |\n",
            "|1924|Chamonix|Biathlon |Biathlon  |JULEN, Alphonse     |SUI    |Men   |Military Patrol|Gold  |\n",
            "|1924|Chamonix|Biathlon |Biathlon  |JULEN, Ant.         |SUI    |Men   |Military Patrol|Gold  |\n",
            "|1924|Chamonix|Biathlon |Biathlon  |VAUCHER, D.         |SUI    |Men   |Military Patrol|Gold  |\n",
            "|1924|Chamonix|Biathlon |Biathlon  |BREMER, V.E.        |FIN    |Men   |Military Patrol|Silver|\n",
            "|1924|Chamonix|Biathlon |Biathlon  |ESKELINEN, A.       |FIN    |Men   |Military Patrol|Silver|\n",
            "|1924|Chamonix|Biathlon |Biathlon  |HIRVONEN, H.        |FIN    |Men   |Military Patrol|Silver|\n",
            "|1924|Chamonix|Biathlon |Biathlon  |LAPPALAINEN, Martti |FIN    |Men   |Military Patrol|Silver|\n",
            "|1924|Chamonix|Bobsleigh|Bobsleigh |MORTIAUX, René      |BEL    |Men   |Four-Man       |Bronze|\n",
            "|1924|Chamonix|Bobsleigh|Bobsleigh |MULDER, Charles     |BEL    |Men   |Four-Man       |Bronze|\n",
            "|1924|Chamonix|Bobsleigh|Bobsleigh |VAN DEN BROECK, Paul|BEL    |Men   |Four-Man       |Bronze|\n",
            "|1924|Chamonix|Bobsleigh|Bobsleigh |VERSCHUEREN, Victor |BEL    |Men   |Four-Man       |Bronze|\n",
            "|1924|Chamonix|Bobsleigh|Bobsleigh |WILLIEMS, Henri     |BEL    |Men   |Four-Man       |Bronze|\n",
            "|1924|Chamonix|Bobsleigh|Bobsleigh |NEVEU, Alfred       |SUI    |Men   |Four-Man       |Gold  |\n",
            "|1924|Chamonix|Bobsleigh|Bobsleigh |SCHERRER, Eduard    |SUI    |Men   |Four-Man       |Gold  |\n",
            "|1924|Chamonix|Bobsleigh|Bobsleigh |SCHLÄPPI, Alfred    |SUI    |Men   |Four-Man       |Gold  |\n",
            "+----+--------+---------+----------+--------------------+-------+------+---------------+------+\n",
            "only showing top 20 rows\n",
            "\n",
            "+----+--------+---------+----------+--------------------+-------+------+---------------+------+\n",
            "|Year|City    |Sport    |Discipline|Athlete             |Country|Gender|Event          |Medal |\n",
            "+----+--------+---------+----------+--------------------+-------+------+---------------+------+\n",
            "|1924|Chamonix|Biathlon |Biathlon  |BERTHET, G.         |FRA    |Men   |Military Patrol|Bronze|\n",
            "|1924|Chamonix|Biathlon |Biathlon  |MANDRILLON, C.      |FRA    |Men   |Military Patrol|Bronze|\n",
            "|1924|Chamonix|Biathlon |Biathlon  |MANDRILLON, Maurice |FRA    |Men   |Military Patrol|Bronze|\n",
            "|1924|Chamonix|Biathlon |Biathlon  |VANDELLE, André     |FRA    |Men   |Military Patrol|Bronze|\n",
            "|1924|Chamonix|Biathlon |Biathlon  |AUFDENBLATTEN, Adolf|SUI    |Men   |Military Patrol|Gold  |\n",
            "|1924|Chamonix|Biathlon |Biathlon  |JULEN, Alphonse     |SUI    |Men   |Military Patrol|Gold  |\n",
            "|1924|Chamonix|Biathlon |Biathlon  |JULEN, Ant.         |SUI    |Men   |Military Patrol|Gold  |\n",
            "|1924|Chamonix|Biathlon |Biathlon  |VAUCHER, D.         |SUI    |Men   |Military Patrol|Gold  |\n",
            "|1924|Chamonix|Biathlon |Biathlon  |BREMER, V.E.        |FIN    |Men   |Military Patrol|Silver|\n",
            "|1924|Chamonix|Biathlon |Biathlon  |ESKELINEN, A.       |FIN    |Men   |Military Patrol|Silver|\n",
            "|1924|Chamonix|Biathlon |Biathlon  |HIRVONEN, H.        |FIN    |Men   |Military Patrol|Silver|\n",
            "|1924|Chamonix|Biathlon |Biathlon  |LAPPALAINEN, Martti |FIN    |Men   |Military Patrol|Silver|\n",
            "|1924|Chamonix|Bobsleigh|Bobsleigh |MORTIAUX, René      |BEL    |Men   |Four-Man       |Bronze|\n",
            "|1924|Chamonix|Bobsleigh|Bobsleigh |MULDER, Charles     |BEL    |Men   |Four-Man       |Bronze|\n",
            "|1924|Chamonix|Bobsleigh|Bobsleigh |VAN DEN BROECK, Paul|BEL    |Men   |Four-Man       |Bronze|\n",
            "|1924|Chamonix|Bobsleigh|Bobsleigh |VERSCHUEREN, Victor |BEL    |Men   |Four-Man       |Bronze|\n",
            "|1924|Chamonix|Bobsleigh|Bobsleigh |WILLIEMS, Henri     |BEL    |Men   |Four-Man       |Bronze|\n",
            "|1924|Chamonix|Bobsleigh|Bobsleigh |NEVEU, Alfred       |SUI    |Men   |Four-Man       |Gold  |\n",
            "|1924|Chamonix|Bobsleigh|Bobsleigh |SCHERRER, Eduard    |SUI    |Men   |Four-Man       |Gold  |\n",
            "|1924|Chamonix|Bobsleigh|Bobsleigh |SCHLÄPPI, Alfred    |SUI    |Men   |Four-Man       |Gold  |\n",
            "+----+--------+---------+----------+--------------------+-------+------+---------------+------+\n",
            "only showing top 20 rows\n",
            "\n"
          ]
        }
      ],
      "source": [
        "# Ejemplos de clase 8: WHERE ¿Juegos olímpicos en S.XX?\n",
        "spark.sql('''SELECT * \n",
        "            FROM winter\n",
        "            WHERE Year<2000\n",
        "''').show(truncate= False)\n",
        "\n",
        "spark.sql('''SELECT * \n",
        "            FROM winter\n",
        "            WHERE Year<=1999\n",
        "''').show(truncate= False)\n"
      ],
      "id": "fLyIZtEiowSv"
    },
    {
      "cell_type": "code",
      "execution_count": null,
      "metadata": {
        "colab": {
          "base_uri": "https://localhost:8080/"
        },
        "outputId": "22f5a5da-165d-44e7-ec1a-5e6abc90e78e",
        "id": "qu5xGJZArl1G"
      },
      "outputs": [
        {
          "output_type": "stream",
          "name": "stdout",
          "text": [
            "+----+--------------+--------+----------+----------------------+-------+------+--------------+------+\n",
            "|Year|City          |Sport   |Discipline|Athlete               |Country|Gender|Event         |Medal |\n",
            "+----+--------------+--------+----------+----------------------+-------+------+--------------+------+\n",
            "|2002|Salt Lake City|Biathlon|Biathlon  |PERNER, Wolfgang      |AUT    |Men   |10KM          |Bronze|\n",
            "|2002|Salt Lake City|Biathlon|Biathlon  |BJOERNDALEN, Ole Einar|NOR    |Men   |10KM          |Gold  |\n",
            "|2002|Salt Lake City|Biathlon|Biathlon  |FISCHER, Sven         |GER    |Men   |10KM          |Silver|\n",
            "|2002|Salt Lake City|Biathlon|Biathlon  |NIKOULTCHINA, Irina   |BUL    |Women |10KM Pursuit  |Bronze|\n",
            "|2002|Salt Lake City|Biathlon|Biathlon  |PYLEVA, Olga          |RUS    |Women |10KM Pursuit  |Gold  |\n",
            "|2002|Salt Lake City|Biathlon|Biathlon  |WILHELM, Kati         |GER    |Women |10KM Pursuit  |Silver|\n",
            "|2002|Salt Lake City|Biathlon|Biathlon  |GROSS, Ricco          |GER    |Men   |12.5Km Pursuit|Bronze|\n",
            "|2002|Salt Lake City|Biathlon|Biathlon  |BJOERNDALEN, Ole Einar|NOR    |Men   |12.5Km Pursuit|Gold  |\n",
            "|2002|Salt Lake City|Biathlon|Biathlon  |POIREE, Raphael       |FRA    |Men   |12.5Km Pursuit|Silver|\n",
            "|2002|Salt Lake City|Biathlon|Biathlon  |FORSBERG, Magdalena   |SWE    |Women |15KM          |Bronze|\n",
            "|2002|Salt Lake City|Biathlon|Biathlon  |HENKEL, Andrea        |GER    |Women |15KM          |Gold  |\n",
            "|2002|Salt Lake City|Biathlon|Biathlon  |POIREE, Liv Grete     |NOR    |Women |15KM          |Silver|\n",
            "|2002|Salt Lake City|Biathlon|Biathlon  |MAIGOUROV, Victor     |RUS    |Men   |20KM          |Bronze|\n",
            "|2002|Salt Lake City|Biathlon|Biathlon  |BJOERNDALEN, Ole Einar|NOR    |Men   |20KM          |Gold  |\n",
            "|2002|Salt Lake City|Biathlon|Biathlon  |LUCK, Frank           |GER    |Men   |20KM          |Silver|\n",
            "|2002|Salt Lake City|Biathlon|Biathlon  |DEFRASNE, Vincent     |FRA    |Men   |4X7.5KM Relay |Bronze|\n",
            "|2002|Salt Lake City|Biathlon|Biathlon  |MARGUET, Gilles       |FRA    |Men   |4X7.5KM Relay |Bronze|\n",
            "|2002|Salt Lake City|Biathlon|Biathlon  |POIREE, Raphael       |FRA    |Men   |4X7.5KM Relay |Bronze|\n",
            "|2002|Salt Lake City|Biathlon|Biathlon  |ROBERT, Julien        |FRA    |Men   |4X7.5KM Relay |Bronze|\n",
            "|2002|Salt Lake City|Biathlon|Biathlon  |ANDRESEN, Frode       |NOR    |Men   |4X7.5KM Relay |Gold  |\n",
            "+----+--------------+--------+----------+----------------------+-------+------+--------------+------+\n",
            "only showing top 20 rows\n",
            "\n",
            "+----+--------------+--------+----------+----------------------+-------+------+--------------+------+\n",
            "|Year|City          |Sport   |Discipline|Athlete               |Country|Gender|Event         |Medal |\n",
            "+----+--------------+--------+----------+----------------------+-------+------+--------------+------+\n",
            "|2002|Salt Lake City|Biathlon|Biathlon  |PERNER, Wolfgang      |AUT    |Men   |10KM          |Bronze|\n",
            "|2002|Salt Lake City|Biathlon|Biathlon  |BJOERNDALEN, Ole Einar|NOR    |Men   |10KM          |Gold  |\n",
            "|2002|Salt Lake City|Biathlon|Biathlon  |FISCHER, Sven         |GER    |Men   |10KM          |Silver|\n",
            "|2002|Salt Lake City|Biathlon|Biathlon  |NIKOULTCHINA, Irina   |BUL    |Women |10KM Pursuit  |Bronze|\n",
            "|2002|Salt Lake City|Biathlon|Biathlon  |PYLEVA, Olga          |RUS    |Women |10KM Pursuit  |Gold  |\n",
            "|2002|Salt Lake City|Biathlon|Biathlon  |WILHELM, Kati         |GER    |Women |10KM Pursuit  |Silver|\n",
            "|2002|Salt Lake City|Biathlon|Biathlon  |GROSS, Ricco          |GER    |Men   |12.5Km Pursuit|Bronze|\n",
            "|2002|Salt Lake City|Biathlon|Biathlon  |BJOERNDALEN, Ole Einar|NOR    |Men   |12.5Km Pursuit|Gold  |\n",
            "|2002|Salt Lake City|Biathlon|Biathlon  |POIREE, Raphael       |FRA    |Men   |12.5Km Pursuit|Silver|\n",
            "|2002|Salt Lake City|Biathlon|Biathlon  |FORSBERG, Magdalena   |SWE    |Women |15KM          |Bronze|\n",
            "|2002|Salt Lake City|Biathlon|Biathlon  |HENKEL, Andrea        |GER    |Women |15KM          |Gold  |\n",
            "|2002|Salt Lake City|Biathlon|Biathlon  |POIREE, Liv Grete     |NOR    |Women |15KM          |Silver|\n",
            "|2002|Salt Lake City|Biathlon|Biathlon  |MAIGOUROV, Victor     |RUS    |Men   |20KM          |Bronze|\n",
            "|2002|Salt Lake City|Biathlon|Biathlon  |BJOERNDALEN, Ole Einar|NOR    |Men   |20KM          |Gold  |\n",
            "|2002|Salt Lake City|Biathlon|Biathlon  |LUCK, Frank           |GER    |Men   |20KM          |Silver|\n",
            "|2002|Salt Lake City|Biathlon|Biathlon  |DEFRASNE, Vincent     |FRA    |Men   |4X7.5KM Relay |Bronze|\n",
            "|2002|Salt Lake City|Biathlon|Biathlon  |MARGUET, Gilles       |FRA    |Men   |4X7.5KM Relay |Bronze|\n",
            "|2002|Salt Lake City|Biathlon|Biathlon  |POIREE, Raphael       |FRA    |Men   |4X7.5KM Relay |Bronze|\n",
            "|2002|Salt Lake City|Biathlon|Biathlon  |ROBERT, Julien        |FRA    |Men   |4X7.5KM Relay |Bronze|\n",
            "|2002|Salt Lake City|Biathlon|Biathlon  |ANDRESEN, Frode       |NOR    |Men   |4X7.5KM Relay |Gold  |\n",
            "+----+--------------+--------+----------+----------------------+-------+------+--------------+------+\n",
            "only showing top 20 rows\n",
            "\n"
          ]
        }
      ],
      "source": [
        "# Ejemplos de clase 9: WHERE ¿Juegos olímpicos en S.XXI?\n",
        "spark.sql('''SELECT * \n",
        "            FROM winter\n",
        "            WHERE Year>=2000\n",
        "''').show(truncate= False)\n",
        "\n",
        "spark.sql('''SELECT * \n",
        "            FROM winter\n",
        "            WHERE Year>1999\n",
        "''').show(truncate= False)"
      ],
      "id": "qu5xGJZArl1G"
    },
    {
      "cell_type": "code",
      "execution_count": null,
      "metadata": {
        "colab": {
          "base_uri": "https://localhost:8080/"
        },
        "outputId": "be86979d-bca0-4b0a-e5bc-0b52c42bdd34",
        "id": "SV3-kMu2sdLE"
      },
      "outputs": [
        {
          "output_type": "stream",
          "name": "stdout",
          "text": [
            "+----+----+-----+----------+-------+-------+------+-----+-----+\n",
            "|Year|City|Sport|Discipline|Athlete|Country|Gender|Event|Medal|\n",
            "+----+----+-----+----------+-------+-------+------+-----+-----+\n",
            "+----+----+-----+----------+-------+-------+------+-----+-----+\n",
            "\n",
            "+----+-----------------+---------+-------------+------------------------+-------+------+------------+------+\n",
            "|Year|City             |Sport    |Discipline   |Athlete                 |Country|Gender|Event       |Medal |\n",
            "+----+-----------------+---------+-------------+------------------------+-------+------+------------+------+\n",
            "|1948|St.Moritz        |Bobsleigh|Skeleton     |BIBBIA, Nino            |ITA    |Men   |Individual  |Gold  |\n",
            "|1952|Oslo             |Skiing   |Alpine Skiing|COLO, Zeno              |ITA    |Men   |Downhill    |Gold  |\n",
            "|1952|Oslo             |Skiing   |Alpine Skiing|MINUZZO CHENAL, Giuliana|ITA    |Women |Downhill    |Bronze|\n",
            "|1956|Cortina d'Ampezzo|Bobsleigh|Bobsleigh    |ALVERA, Renzo           |ITA    |Men   |Four-Man    |Silver|\n",
            "|1956|Cortina d'Ampezzo|Bobsleigh|Bobsleigh    |GIRARDI, Ulrico         |ITA    |Men   |Four-Man    |Silver|\n",
            "|1956|Cortina d'Ampezzo|Bobsleigh|Bobsleigh    |MOCELLINI, Renato       |ITA    |Men   |Four-Man    |Silver|\n",
            "|1956|Cortina d'Ampezzo|Bobsleigh|Bobsleigh    |MONTI, Eugenio          |ITA    |Men   |Four-Man    |Silver|\n",
            "|1956|Cortina d'Ampezzo|Bobsleigh|Bobsleigh    |CONTI, Giacomo          |ITA    |Men   |Two-Man     |Gold  |\n",
            "|1956|Cortina d'Ampezzo|Bobsleigh|Bobsleigh    |DALLA COSTA, Lamberto   |ITA    |Men   |Two-Man     |Gold  |\n",
            "|1956|Cortina d'Ampezzo|Bobsleigh|Bobsleigh    |ALVERA, Renzo           |ITA    |Men   |Two-Man     |Silver|\n",
            "|1956|Cortina d'Ampezzo|Bobsleigh|Bobsleigh    |MONTI, Eugenio          |ITA    |Men   |Two-Man     |Silver|\n",
            "|1960|Squaw Valley     |Skiing   |Alpine Skiing|MINUZZO CHENAL, Giuliana|ITA    |Women |Giant Slalom|Bronze|\n",
            "|1964|Innsbruck        |Bobsleigh|Bobsleigh    |MONTI, Eugenio          |ITA    |Men   |Four-Man    |Bronze|\n",
            "|1964|Innsbruck        |Bobsleigh|Bobsleigh    |RIGONI, Benito          |ITA    |Men   |Four-Man    |Bronze|\n",
            "|1964|Innsbruck        |Bobsleigh|Bobsleigh    |SIORPAES, Gildo         |ITA    |Men   |Four-Man    |Bronze|\n",
            "|1964|Innsbruck        |Bobsleigh|Bobsleigh    |SIORPAES, Sergio        |ITA    |Men   |Four-Man    |Bronze|\n",
            "|1964|Innsbruck        |Bobsleigh|Bobsleigh    |MONTI, Eugenio          |ITA    |Men   |Two-Man     |Bronze|\n",
            "|1964|Innsbruck        |Bobsleigh|Bobsleigh    |SIORPAES, Sergio        |ITA    |Men   |Two-Man     |Bronze|\n",
            "|1964|Innsbruck        |Bobsleigh|Bobsleigh    |BONAGURA, Romano        |ITA    |Men   |Two-Man     |Silver|\n",
            "|1964|Innsbruck        |Bobsleigh|Bobsleigh    |ZARDINI, Sergio         |ITA    |Men   |Two-Man     |Silver|\n",
            "+----+-----------------+---------+-------------+------------------------+-------+------+------------+------+\n",
            "only showing top 20 rows\n",
            "\n"
          ]
        }
      ],
      "source": [
        "# Ejemplos de clase 10: WHERE\n",
        "spark.sql('''SELECT * \n",
        "            FROM winter\n",
        "            WHERE Country=\"ESP\" AND Country=\"ITA\"\n",
        "''').show(truncate= False)\n",
        "\n",
        "spark.sql('''SELECT * \n",
        "            FROM winter\n",
        "            WHERE Country=\"ESP\" OR Country=\"ITA\"\n",
        "''').show(truncate= False)"
      ],
      "id": "SV3-kMu2sdLE"
    },
    {
      "cell_type": "code",
      "execution_count": null,
      "metadata": {
        "colab": {
          "base_uri": "https://localhost:8080/"
        },
        "outputId": "fb5a43c8-7cf2-4714-ce9d-4ece79b5b53f",
        "id": "kA-uhIKttJA4"
      },
      "outputs": [
        {
          "output_type": "stream",
          "name": "stdout",
          "text": [
            "+----+-----------------+---------+-------------+------------------------+-------+------+------------+------+\n",
            "|Year|City             |Sport    |Discipline   |Athlete                 |Country|Gender|Event       |Medal |\n",
            "+----+-----------------+---------+-------------+------------------------+-------+------+------------+------+\n",
            "|1948|St.Moritz        |Bobsleigh|Skeleton     |BIBBIA, Nino            |ITA    |Men   |Individual  |Gold  |\n",
            "|1952|Oslo             |Skiing   |Alpine Skiing|COLO, Zeno              |ITA    |Men   |Downhill    |Gold  |\n",
            "|1952|Oslo             |Skiing   |Alpine Skiing|MINUZZO CHENAL, Giuliana|ITA    |Women |Downhill    |Bronze|\n",
            "|1956|Cortina d'Ampezzo|Bobsleigh|Bobsleigh    |ALVERA, Renzo           |ITA    |Men   |Four-Man    |Silver|\n",
            "|1956|Cortina d'Ampezzo|Bobsleigh|Bobsleigh    |GIRARDI, Ulrico         |ITA    |Men   |Four-Man    |Silver|\n",
            "|1956|Cortina d'Ampezzo|Bobsleigh|Bobsleigh    |MOCELLINI, Renato       |ITA    |Men   |Four-Man    |Silver|\n",
            "|1956|Cortina d'Ampezzo|Bobsleigh|Bobsleigh    |MONTI, Eugenio          |ITA    |Men   |Four-Man    |Silver|\n",
            "|1956|Cortina d'Ampezzo|Bobsleigh|Bobsleigh    |CONTI, Giacomo          |ITA    |Men   |Two-Man     |Gold  |\n",
            "|1956|Cortina d'Ampezzo|Bobsleigh|Bobsleigh    |DALLA COSTA, Lamberto   |ITA    |Men   |Two-Man     |Gold  |\n",
            "|1956|Cortina d'Ampezzo|Bobsleigh|Bobsleigh    |ALVERA, Renzo           |ITA    |Men   |Two-Man     |Silver|\n",
            "|1956|Cortina d'Ampezzo|Bobsleigh|Bobsleigh    |MONTI, Eugenio          |ITA    |Men   |Two-Man     |Silver|\n",
            "|1960|Squaw Valley     |Skiing   |Alpine Skiing|MINUZZO CHENAL, Giuliana|ITA    |Women |Giant Slalom|Bronze|\n",
            "|1964|Innsbruck        |Bobsleigh|Bobsleigh    |MONTI, Eugenio          |ITA    |Men   |Four-Man    |Bronze|\n",
            "|1964|Innsbruck        |Bobsleigh|Bobsleigh    |RIGONI, Benito          |ITA    |Men   |Four-Man    |Bronze|\n",
            "|1964|Innsbruck        |Bobsleigh|Bobsleigh    |SIORPAES, Gildo         |ITA    |Men   |Four-Man    |Bronze|\n",
            "|1964|Innsbruck        |Bobsleigh|Bobsleigh    |SIORPAES, Sergio        |ITA    |Men   |Four-Man    |Bronze|\n",
            "|1964|Innsbruck        |Bobsleigh|Bobsleigh    |MONTI, Eugenio          |ITA    |Men   |Two-Man     |Bronze|\n",
            "|1964|Innsbruck        |Bobsleigh|Bobsleigh    |SIORPAES, Sergio        |ITA    |Men   |Two-Man     |Bronze|\n",
            "|1964|Innsbruck        |Bobsleigh|Bobsleigh    |BONAGURA, Romano        |ITA    |Men   |Two-Man     |Silver|\n",
            "|1964|Innsbruck        |Bobsleigh|Bobsleigh    |ZARDINI, Sergio         |ITA    |Men   |Two-Man     |Silver|\n",
            "+----+-----------------+---------+-------------+------------------------+-------+------+------------+------+\n",
            "only showing top 20 rows\n",
            "\n",
            "+----+--------+---------+----------+---------------------+-------+------+---------------+------+\n",
            "|Year|City    |Sport    |Discipline|Athlete              |Country|Gender|Event          |Medal |\n",
            "+----+--------+---------+----------+---------------------+-------+------+---------------+------+\n",
            "|1924|Chamonix|Biathlon |Biathlon  |BERTHET, G.          |FRA    |Men   |Military Patrol|Bronze|\n",
            "|1924|Chamonix|Biathlon |Biathlon  |MANDRILLON, C.       |FRA    |Men   |Military Patrol|Bronze|\n",
            "|1924|Chamonix|Biathlon |Biathlon  |MANDRILLON, Maurice  |FRA    |Men   |Military Patrol|Bronze|\n",
            "|1924|Chamonix|Biathlon |Biathlon  |VANDELLE, André      |FRA    |Men   |Military Patrol|Bronze|\n",
            "|1924|Chamonix|Biathlon |Biathlon  |BREMER, V.E.         |FIN    |Men   |Military Patrol|Silver|\n",
            "|1924|Chamonix|Biathlon |Biathlon  |ESKELINEN, A.        |FIN    |Men   |Military Patrol|Silver|\n",
            "|1924|Chamonix|Biathlon |Biathlon  |HIRVONEN, H.         |FIN    |Men   |Military Patrol|Silver|\n",
            "|1924|Chamonix|Biathlon |Biathlon  |LAPPALAINEN, Martti  |FIN    |Men   |Military Patrol|Silver|\n",
            "|1924|Chamonix|Bobsleigh|Bobsleigh |MORTIAUX, René       |BEL    |Men   |Four-Man       |Bronze|\n",
            "|1924|Chamonix|Bobsleigh|Bobsleigh |MULDER, Charles      |BEL    |Men   |Four-Man       |Bronze|\n",
            "|1924|Chamonix|Bobsleigh|Bobsleigh |VAN DEN BROECK, Paul |BEL    |Men   |Four-Man       |Bronze|\n",
            "|1924|Chamonix|Bobsleigh|Bobsleigh |VERSCHUEREN, Victor  |BEL    |Men   |Four-Man       |Bronze|\n",
            "|1924|Chamonix|Bobsleigh|Bobsleigh |WILLIEMS, Henri      |BEL    |Men   |Four-Man       |Bronze|\n",
            "|1924|Chamonix|Bobsleigh|Bobsleigh |ARNOLD, Thomas       |GBR    |Men   |Four-Man       |Silver|\n",
            "|1924|Chamonix|Bobsleigh|Bobsleigh |BROOME, Ralpf        |GBR    |Men   |Four-Man       |Silver|\n",
            "|1924|Chamonix|Bobsleigh|Bobsleigh |RICHARDSON, Alexander|GBR    |Men   |Four-Man       |Silver|\n",
            "|1924|Chamonix|Bobsleigh|Bobsleigh |SOHER, Rodney        |GBR    |Men   |Four-Man       |Silver|\n",
            "|1924|Chamonix|Curling  |Curling   |ALDEERT, H.          |FRA    |Men   |Curling        |Bronze|\n",
            "|1924|Chamonix|Curling  |Curling   |ANDRE, Georges       |FRA    |Men   |Curling        |Bronze|\n",
            "|1924|Chamonix|Curling  |Curling   |BENEDIC              |FRA    |Men   |Curling        |Bronze|\n",
            "+----+--------+---------+----------+---------------------+-------+------+---------------+------+\n",
            "only showing top 20 rows\n",
            "\n",
            "+----+-----------------+---------+-------------+------------------------+-------+------+------------+------+\n",
            "|Year|City             |Sport    |Discipline   |Athlete                 |Country|Gender|Event       |Medal |\n",
            "+----+-----------------+---------+-------------+------------------------+-------+------+------------+------+\n",
            "|1952|Oslo             |Skiing   |Alpine Skiing|MINUZZO CHENAL, Giuliana|ITA    |Women |Downhill    |Bronze|\n",
            "|1956|Cortina d'Ampezzo|Bobsleigh|Bobsleigh    |ALVERA, Renzo           |ITA    |Men   |Four-Man    |Silver|\n",
            "|1956|Cortina d'Ampezzo|Bobsleigh|Bobsleigh    |GIRARDI, Ulrico         |ITA    |Men   |Four-Man    |Silver|\n",
            "|1956|Cortina d'Ampezzo|Bobsleigh|Bobsleigh    |MOCELLINI, Renato       |ITA    |Men   |Four-Man    |Silver|\n",
            "|1956|Cortina d'Ampezzo|Bobsleigh|Bobsleigh    |MONTI, Eugenio          |ITA    |Men   |Four-Man    |Silver|\n",
            "|1956|Cortina d'Ampezzo|Bobsleigh|Bobsleigh    |ALVERA, Renzo           |ITA    |Men   |Two-Man     |Silver|\n",
            "|1956|Cortina d'Ampezzo|Bobsleigh|Bobsleigh    |MONTI, Eugenio          |ITA    |Men   |Two-Man     |Silver|\n",
            "|1960|Squaw Valley     |Skiing   |Alpine Skiing|MINUZZO CHENAL, Giuliana|ITA    |Women |Giant Slalom|Bronze|\n",
            "|1964|Innsbruck        |Bobsleigh|Bobsleigh    |MONTI, Eugenio          |ITA    |Men   |Four-Man    |Bronze|\n",
            "|1964|Innsbruck        |Bobsleigh|Bobsleigh    |RIGONI, Benito          |ITA    |Men   |Four-Man    |Bronze|\n",
            "|1964|Innsbruck        |Bobsleigh|Bobsleigh    |SIORPAES, Gildo         |ITA    |Men   |Four-Man    |Bronze|\n",
            "|1964|Innsbruck        |Bobsleigh|Bobsleigh    |SIORPAES, Sergio        |ITA    |Men   |Four-Man    |Bronze|\n",
            "|1964|Innsbruck        |Bobsleigh|Bobsleigh    |MONTI, Eugenio          |ITA    |Men   |Two-Man     |Bronze|\n",
            "|1964|Innsbruck        |Bobsleigh|Bobsleigh    |SIORPAES, Sergio        |ITA    |Men   |Two-Man     |Bronze|\n",
            "|1964|Innsbruck        |Bobsleigh|Bobsleigh    |BONAGURA, Romano        |ITA    |Men   |Two-Man     |Silver|\n",
            "|1964|Innsbruck        |Bobsleigh|Bobsleigh    |ZARDINI, Sergio         |ITA    |Men   |Two-Man     |Silver|\n",
            "|1964|Innsbruck        |Luge     |Luge         |AUSSENDORFER, Walter    |ITA    |Men   |Doubles     |Bronze|\n",
            "|1964|Innsbruck        |Luge     |Luge         |MAIR, Sigisfredo        |ITA    |Men   |Doubles     |Bronze|\n",
            "|1972|Sapporo          |Bobsleigh|Bobsleigh    |BONICHON, Gianni        |ITA    |Men   |Four-Man    |Silver|\n",
            "|1972|Sapporo          |Bobsleigh|Bobsleigh    |DAL FABBRO, Corrado     |ITA    |Men   |Four-Man    |Silver|\n",
            "+----+-----------------+---------+-------------+------------------------+-------+------+------------+------+\n",
            "only showing top 20 rows\n",
            "\n"
          ]
        }
      ],
      "source": [
        "# Ejemplos de clase 10: WHERE\n",
        "spark.sql('''SELECT * \n",
        "            FROM winter\n",
        "            WHERE Country=\"ESP\" OR Country=\"ITA\"\n",
        "''').show(truncate= False)\n",
        "\n",
        "spark.sql('''SELECT * \n",
        "            FROM winter\n",
        "            WHERE Medal=\"Silver\" OR Medal=\"Bronze\"\n",
        "''').show(truncate= False)\n",
        "\n",
        "spark.sql('''SELECT * \n",
        "            FROM winter\n",
        "            WHERE (Country=\"ESP\" OR Country=\"ITA\") AND (Medal=\"Silver\" OR Medal=\"Bronze\")\n",
        "''').show(truncate= False)\n"
      ],
      "id": "kA-uhIKttJA4"
    },
    {
      "cell_type": "code",
      "execution_count": null,
      "metadata": {
        "colab": {
          "base_uri": "https://localhost:8080/"
        },
        "outputId": "c77ccc94-aab2-403a-defe-805d4d537282",
        "id": "DGjyGb9xv4kT"
      },
      "outputs": [
        {
          "output_type": "stream",
          "name": "stdout",
          "text": [
            "+----+---------+----------+----------+------------------------+-------+------+----------+------+\n",
            "|Year|City     |Sport     |Discipline|Athlete                 |Country|Gender|Event     |Medal |\n",
            "+----+---------+----------+----------+------------------------+-------+------+----------+------+\n",
            "|1928|St.Moritz|Bobsleigh |Bobsleigh |HESS, Hans              |GER    |Men   |Five-Man  |Bronze|\n",
            "|1928|St.Moritz|Bobsleigh |Bobsleigh |HUBER, Sebastian        |GER    |Men   |Five-Man  |Bronze|\n",
            "|1928|St.Moritz|Bobsleigh |Bobsleigh |KILIAN, Hanns           |GER    |Men   |Five-Man  |Bronze|\n",
            "|1928|St.Moritz|Bobsleigh |Bobsleigh |KREMPL, Valentin        |GER    |Men   |Five-Man  |Bronze|\n",
            "|1928|St.Moritz|Bobsleigh |Bobsleigh |NÄGLE, Hanns            |GER    |Men   |Five-Man  |Bronze|\n",
            "|1928|St.Moritz|Bobsleigh |Bobsleigh |FISKE, William          |USA    |Men   |Five-Man  |Gold  |\n",
            "|1928|St.Moritz|Bobsleigh |Bobsleigh |GRAY, Clifford Barton   |USA    |Men   |Five-Man  |Gold  |\n",
            "|1928|St.Moritz|Bobsleigh |Bobsleigh |MASON, Geoffrey Travers |USA    |Men   |Five-Man  |Gold  |\n",
            "|1928|St.Moritz|Bobsleigh |Bobsleigh |PARKE, Richard          |USA    |Men   |Five-Man  |Gold  |\n",
            "|1928|St.Moritz|Bobsleigh |Bobsleigh |TUCKER, Nion            |USA    |Men   |Five-Man  |Gold  |\n",
            "|1928|St.Moritz|Bobsleigh |Bobsleigh |DOE, Thomas             |USA    |Men   |Five-Man  |Silver|\n",
            "|1928|St.Moritz|Bobsleigh |Bobsleigh |GRANGER, David          |USA    |Men   |Five-Man  |Silver|\n",
            "|1928|St.Moritz|Bobsleigh |Bobsleigh |HEATON, Jennison        |USA    |Men   |Five-Man  |Silver|\n",
            "|1928|St.Moritz|Bobsleigh |Bobsleigh |HINE, Lyman             |USA    |Men   |Five-Man  |Silver|\n",
            "|1928|St.Moritz|Bobsleigh |Bobsleigh |O'BRIEN, Jay James      |USA    |Men   |Five-Man  |Silver|\n",
            "|1928|St.Moritz|Bobsleigh |Skeleton  |NORTHESK, David, Earl of|GBR    |Men   |Individual|Bronze|\n",
            "|1928|St.Moritz|Bobsleigh |Skeleton  |HEATON, Jennison        |USA    |Men   |Individual|Gold  |\n",
            "|1928|St.Moritz|Bobsleigh |Skeleton  |HEATON, John            |USA    |Men   |Individual|Silver|\n",
            "|1928|St.Moritz|Ice Hockey|Ice Hockey|ANDREOSSI, Giannin      |SUI    |Men   |Ice Hockey|Bronze|\n",
            "|1928|St.Moritz|Ice Hockey|Ice Hockey|ANDREOSSI, Mezzi        |SUI    |Men   |Ice Hockey|Bronze|\n",
            "+----+---------+----------+----------+------------------------+-------+------+----------+------+\n",
            "only showing top 20 rows\n",
            "\n",
            "+----+---------+----------+----------+------------------------+-------+------+----------+------+\n",
            "|Year|City     |Sport     |Discipline|Athlete                 |Country|Gender|Event     |Medal |\n",
            "+----+---------+----------+----------+------------------------+-------+------+----------+------+\n",
            "|1928|St.Moritz|Bobsleigh |Bobsleigh |HESS, Hans              |GER    |Men   |Five-Man  |Bronze|\n",
            "|1928|St.Moritz|Bobsleigh |Bobsleigh |HUBER, Sebastian        |GER    |Men   |Five-Man  |Bronze|\n",
            "|1928|St.Moritz|Bobsleigh |Bobsleigh |KILIAN, Hanns           |GER    |Men   |Five-Man  |Bronze|\n",
            "|1928|St.Moritz|Bobsleigh |Bobsleigh |KREMPL, Valentin        |GER    |Men   |Five-Man  |Bronze|\n",
            "|1928|St.Moritz|Bobsleigh |Bobsleigh |NÄGLE, Hanns            |GER    |Men   |Five-Man  |Bronze|\n",
            "|1928|St.Moritz|Bobsleigh |Bobsleigh |FISKE, William          |USA    |Men   |Five-Man  |Gold  |\n",
            "|1928|St.Moritz|Bobsleigh |Bobsleigh |GRAY, Clifford Barton   |USA    |Men   |Five-Man  |Gold  |\n",
            "|1928|St.Moritz|Bobsleigh |Bobsleigh |MASON, Geoffrey Travers |USA    |Men   |Five-Man  |Gold  |\n",
            "|1928|St.Moritz|Bobsleigh |Bobsleigh |PARKE, Richard          |USA    |Men   |Five-Man  |Gold  |\n",
            "|1928|St.Moritz|Bobsleigh |Bobsleigh |TUCKER, Nion            |USA    |Men   |Five-Man  |Gold  |\n",
            "|1928|St.Moritz|Bobsleigh |Bobsleigh |DOE, Thomas             |USA    |Men   |Five-Man  |Silver|\n",
            "|1928|St.Moritz|Bobsleigh |Bobsleigh |GRANGER, David          |USA    |Men   |Five-Man  |Silver|\n",
            "|1928|St.Moritz|Bobsleigh |Bobsleigh |HEATON, Jennison        |USA    |Men   |Five-Man  |Silver|\n",
            "|1928|St.Moritz|Bobsleigh |Bobsleigh |HINE, Lyman             |USA    |Men   |Five-Man  |Silver|\n",
            "|1928|St.Moritz|Bobsleigh |Bobsleigh |O'BRIEN, Jay James      |USA    |Men   |Five-Man  |Silver|\n",
            "|1928|St.Moritz|Bobsleigh |Skeleton  |NORTHESK, David, Earl of|GBR    |Men   |Individual|Bronze|\n",
            "|1928|St.Moritz|Bobsleigh |Skeleton  |HEATON, Jennison        |USA    |Men   |Individual|Gold  |\n",
            "|1928|St.Moritz|Bobsleigh |Skeleton  |HEATON, John            |USA    |Men   |Individual|Silver|\n",
            "|1928|St.Moritz|Ice Hockey|Ice Hockey|ANDREOSSI, Giannin      |SUI    |Men   |Ice Hockey|Bronze|\n",
            "|1928|St.Moritz|Ice Hockey|Ice Hockey|ANDREOSSI, Mezzi        |SUI    |Men   |Ice Hockey|Bronze|\n",
            "+----+---------+----------+----------+------------------------+-------+------+----------+------+\n",
            "only showing top 20 rows\n",
            "\n",
            "+----+--------+---------+----------+--------------------+-------+------+---------------+------+\n",
            "|Year|City    |Sport    |Discipline|Athlete             |Country|Gender|Event          |Medal |\n",
            "+----+--------+---------+----------+--------------------+-------+------+---------------+------+\n",
            "|1924|Chamonix|Biathlon |Biathlon  |BERTHET, G.         |FRA    |Men   |Military Patrol|Bronze|\n",
            "|1924|Chamonix|Biathlon |Biathlon  |MANDRILLON, C.      |FRA    |Men   |Military Patrol|Bronze|\n",
            "|1924|Chamonix|Biathlon |Biathlon  |MANDRILLON, Maurice |FRA    |Men   |Military Patrol|Bronze|\n",
            "|1924|Chamonix|Biathlon |Biathlon  |VANDELLE, André     |FRA    |Men   |Military Patrol|Bronze|\n",
            "|1924|Chamonix|Biathlon |Biathlon  |AUFDENBLATTEN, Adolf|SUI    |Men   |Military Patrol|Gold  |\n",
            "|1924|Chamonix|Biathlon |Biathlon  |JULEN, Alphonse     |SUI    |Men   |Military Patrol|Gold  |\n",
            "|1924|Chamonix|Biathlon |Biathlon  |JULEN, Ant.         |SUI    |Men   |Military Patrol|Gold  |\n",
            "|1924|Chamonix|Biathlon |Biathlon  |VAUCHER, D.         |SUI    |Men   |Military Patrol|Gold  |\n",
            "|1924|Chamonix|Biathlon |Biathlon  |BREMER, V.E.        |FIN    |Men   |Military Patrol|Silver|\n",
            "|1924|Chamonix|Biathlon |Biathlon  |ESKELINEN, A.       |FIN    |Men   |Military Patrol|Silver|\n",
            "|1924|Chamonix|Biathlon |Biathlon  |HIRVONEN, H.        |FIN    |Men   |Military Patrol|Silver|\n",
            "|1924|Chamonix|Biathlon |Biathlon  |LAPPALAINEN, Martti |FIN    |Men   |Military Patrol|Silver|\n",
            "|1924|Chamonix|Bobsleigh|Bobsleigh |MORTIAUX, René      |BEL    |Men   |Four-Man       |Bronze|\n",
            "|1924|Chamonix|Bobsleigh|Bobsleigh |MULDER, Charles     |BEL    |Men   |Four-Man       |Bronze|\n",
            "|1924|Chamonix|Bobsleigh|Bobsleigh |VAN DEN BROECK, Paul|BEL    |Men   |Four-Man       |Bronze|\n",
            "|1924|Chamonix|Bobsleigh|Bobsleigh |VERSCHUEREN, Victor |BEL    |Men   |Four-Man       |Bronze|\n",
            "|1924|Chamonix|Bobsleigh|Bobsleigh |WILLIEMS, Henri     |BEL    |Men   |Four-Man       |Bronze|\n",
            "|1924|Chamonix|Bobsleigh|Bobsleigh |NEVEU, Alfred       |SUI    |Men   |Four-Man       |Gold  |\n",
            "|1924|Chamonix|Bobsleigh|Bobsleigh |SCHERRER, Eduard    |SUI    |Men   |Four-Man       |Gold  |\n",
            "|1924|Chamonix|Bobsleigh|Bobsleigh |SCHLÄPPI, Alfred    |SUI    |Men   |Four-Man       |Gold  |\n",
            "+----+--------+---------+----------+--------------------+-------+------+---------------+------+\n",
            "only showing top 20 rows\n",
            "\n"
          ]
        }
      ],
      "source": [
        "# Ejemplos de clase 11: WHERE NOT\n",
        "spark.sql('''SELECT * \n",
        "            FROM winter\n",
        "            WHERE NOT Year =1924\n",
        "''').show(truncate= False)\n",
        "\n",
        "spark.sql('''SELECT * \n",
        "            FROM winter\n",
        "            WHERE Year <>1924\n",
        "''').show(truncate= False)\n",
        "\n",
        "spark.sql('''SELECT * \n",
        "            FROM winter\n",
        "            WHERE NOT Year !=1924\n",
        "''').show(truncate= False)"
      ],
      "id": "DGjyGb9xv4kT"
    },
    {
      "cell_type": "code",
      "execution_count": null,
      "metadata": {
        "colab": {
          "base_uri": "https://localhost:8080/"
        },
        "outputId": "5285283f-fb81-423a-95cc-7f1de564d0a9",
        "id": "crEVVAsXx6D0"
      },
      "outputs": [
        {
          "output_type": "stream",
          "name": "stdout",
          "text": [
            "+----+--------+----------+----------+--------------------------+-------+------+---------------+------+\n",
            "|Year|City    |Sport     |Discipline|Athlete                   |Country|Gender|Event          |Medal |\n",
            "+----+--------+----------+----------+--------------------------+-------+------+---------------+------+\n",
            "|1924|Chamonix|Biathlon  |Biathlon  |BERTHET, G.               |FRA    |Men   |Military Patrol|Bronze|\n",
            "|1924|Chamonix|Biathlon  |Biathlon  |MANDRILLON, C.            |FRA    |Men   |Military Patrol|Bronze|\n",
            "|1924|Chamonix|Biathlon  |Biathlon  |MANDRILLON, Maurice       |FRA    |Men   |Military Patrol|Bronze|\n",
            "|1924|Chamonix|Biathlon  |Biathlon  |VANDELLE, André           |FRA    |Men   |Military Patrol|Bronze|\n",
            "|1924|Chamonix|Bobsleigh |Bobsleigh |ARNOLD, Thomas            |GBR    |Men   |Four-Man       |Silver|\n",
            "|1924|Chamonix|Bobsleigh |Bobsleigh |BROOME, Ralpf             |GBR    |Men   |Four-Man       |Silver|\n",
            "|1924|Chamonix|Bobsleigh |Bobsleigh |RICHARDSON, Alexander     |GBR    |Men   |Four-Man       |Silver|\n",
            "|1924|Chamonix|Bobsleigh |Bobsleigh |SOHER, Rodney             |GBR    |Men   |Four-Man       |Silver|\n",
            "|1924|Chamonix|Curling   |Curling   |ALDEERT, H.               |FRA    |Men   |Curling        |Bronze|\n",
            "|1924|Chamonix|Curling   |Curling   |ANDRE, Georges            |FRA    |Men   |Curling        |Bronze|\n",
            "|1924|Chamonix|Curling   |Curling   |BENEDIC                   |FRA    |Men   |Curling        |Bronze|\n",
            "|1924|Chamonix|Curling   |Curling   |CANIVET, P.               |FRA    |Men   |Curling        |Bronze|\n",
            "|1924|Chamonix|Curling   |Curling   |COURNOLLET, F.            |FRA    |Men   |Curling        |Bronze|\n",
            "|1924|Chamonix|Curling   |Curling   |PLANQUE, R.               |FRA    |Men   |Curling        |Bronze|\n",
            "|1924|Chamonix|Ice Hockey|Ice Hockey|ANDERSON, William         |GBR    |Men   |Ice Hockey     |Bronze|\n",
            "|1924|Chamonix|Ice Hockey|Ice Hockey|BOULDEN, C.-B.            |GBR    |Men   |Ice Hockey     |Bronze|\n",
            "|1924|Chamonix|Ice Hockey|Ice Hockey|CARR-HARRIS, Louis Howland|GBR    |Men   |Ice Hockey     |Bronze|\n",
            "|1924|Chamonix|Ice Hockey|Ice Hockey|CARRUTHERS, Colin Gordon  |GBR    |Men   |Ice Hockey     |Bronze|\n",
            "|1924|Chamonix|Ice Hockey|Ice Hockey|CARRUTHERS, Eric Dudley   |GBR    |Men   |Ice Hockey     |Bronze|\n",
            "|1924|Chamonix|Ice Hockey|Ice Hockey|CLARKSON, Guy E.          |GBR    |Men   |Ice Hockey     |Bronze|\n",
            "+----+--------+----------+----------+--------------------------+-------+------+---------------+------+\n",
            "only showing top 20 rows\n",
            "\n",
            "+----+--------+----------+----------+--------------------------+-------+------+---------------+------+\n",
            "|Year|City    |Sport     |Discipline|Athlete                   |Country|Gender|Event          |Medal |\n",
            "+----+--------+----------+----------+--------------------------+-------+------+---------------+------+\n",
            "|1924|Chamonix|Biathlon  |Biathlon  |BERTHET, G.               |FRA    |Men   |Military Patrol|Bronze|\n",
            "|1924|Chamonix|Biathlon  |Biathlon  |MANDRILLON, C.            |FRA    |Men   |Military Patrol|Bronze|\n",
            "|1924|Chamonix|Biathlon  |Biathlon  |MANDRILLON, Maurice       |FRA    |Men   |Military Patrol|Bronze|\n",
            "|1924|Chamonix|Biathlon  |Biathlon  |VANDELLE, André           |FRA    |Men   |Military Patrol|Bronze|\n",
            "|1924|Chamonix|Bobsleigh |Bobsleigh |ARNOLD, Thomas            |GBR    |Men   |Four-Man       |Silver|\n",
            "|1924|Chamonix|Bobsleigh |Bobsleigh |BROOME, Ralpf             |GBR    |Men   |Four-Man       |Silver|\n",
            "|1924|Chamonix|Bobsleigh |Bobsleigh |RICHARDSON, Alexander     |GBR    |Men   |Four-Man       |Silver|\n",
            "|1924|Chamonix|Bobsleigh |Bobsleigh |SOHER, Rodney             |GBR    |Men   |Four-Man       |Silver|\n",
            "|1924|Chamonix|Curling   |Curling   |ALDEERT, H.               |FRA    |Men   |Curling        |Bronze|\n",
            "|1924|Chamonix|Curling   |Curling   |ANDRE, Georges            |FRA    |Men   |Curling        |Bronze|\n",
            "|1924|Chamonix|Curling   |Curling   |BENEDIC                   |FRA    |Men   |Curling        |Bronze|\n",
            "|1924|Chamonix|Curling   |Curling   |CANIVET, P.               |FRA    |Men   |Curling        |Bronze|\n",
            "|1924|Chamonix|Curling   |Curling   |COURNOLLET, F.            |FRA    |Men   |Curling        |Bronze|\n",
            "|1924|Chamonix|Curling   |Curling   |PLANQUE, R.               |FRA    |Men   |Curling        |Bronze|\n",
            "|1924|Chamonix|Ice Hockey|Ice Hockey|ANDERSON, William         |GBR    |Men   |Ice Hockey     |Bronze|\n",
            "|1924|Chamonix|Ice Hockey|Ice Hockey|BOULDEN, C.-B.            |GBR    |Men   |Ice Hockey     |Bronze|\n",
            "|1924|Chamonix|Ice Hockey|Ice Hockey|CARR-HARRIS, Louis Howland|GBR    |Men   |Ice Hockey     |Bronze|\n",
            "|1924|Chamonix|Ice Hockey|Ice Hockey|CARRUTHERS, Colin Gordon  |GBR    |Men   |Ice Hockey     |Bronze|\n",
            "|1924|Chamonix|Ice Hockey|Ice Hockey|CARRUTHERS, Eric Dudley   |GBR    |Men   |Ice Hockey     |Bronze|\n",
            "|1924|Chamonix|Ice Hockey|Ice Hockey|CLARKSON, Guy E.          |GBR    |Men   |Ice Hockey     |Bronze|\n",
            "+----+--------+----------+----------+--------------------------+-------+------+---------------+------+\n",
            "only showing top 20 rows\n",
            "\n"
          ]
        }
      ],
      "source": [
        "\n",
        "# Ejemplos de clase 12: WHERE IN\n",
        "spark.sql('''SELECT * \n",
        "            FROM winter\n",
        "            WHERE (Country=\"ESP\" OR Country=\"ITA\" OR Country=\"GER\" OR Country=\"GBR\" OR Country=\"FRA\") \n",
        "            AND (Medal=\"Silver\" OR Medal=\"Bronze\")\n",
        "''').show(truncate= False)\n",
        "\n",
        "spark.sql('''SELECT * \n",
        "            FROM winter\n",
        "            WHERE Country IN (\"ESP\",\"ITA\",\"GER\",\"GBR\",\"FRA\") \n",
        "            AND Medal IN (\"Silver\",\"Bronze\")\n",
        "''').show(truncate= False)"
      ],
      "id": "crEVVAsXx6D0"
    },
    {
      "cell_type": "code",
      "execution_count": null,
      "metadata": {
        "colab": {
          "base_uri": "https://localhost:8080/"
        },
        "outputId": "1b8b19c0-814b-42c1-8609-914fb15bc539",
        "id": "ohtZ9E7xwqHw"
      },
      "outputs": [
        {
          "output_type": "stream",
          "name": "stdout",
          "text": [
            "+----------------------+----+\n",
            "|Ciudad                |Año |\n",
            "+----------------------+----+\n",
            "|Cortina d'Ampezzo     |1956|\n",
            "|Lake Placid           |1980|\n",
            "|Garmisch Partenkirchen|1936|\n",
            "|Innsbruck             |1964|\n",
            "|Chamonix              |1924|\n",
            "|Sapporo               |1972|\n",
            "|Squaw Valley          |1960|\n",
            "|St.Moritz             |1928|\n",
            "|Calgary               |1988|\n",
            "|St.Moritz             |1948|\n",
            "|Albertville           |1992|\n",
            "|Grenoble              |1968|\n",
            "|Innsbruck             |1976|\n",
            "|Oslo                  |1952|\n",
            "|Lillehammer           |1994|\n",
            "|Sarajevo              |1984|\n",
            "|Lake Placid           |1932|\n",
            "|Nagano                |1998|\n",
            "+----------------------+----+\n",
            "\n"
          ]
        }
      ],
      "source": [
        "# Ejemplos de clase 13: WHERE BETWEEN\n",
        "spark.sql('''SELECT DISTINCT City AS Ciudad, Year `Año`\n",
        "            FROM winter\n",
        "            WHERE Year BETWEEN 1900 AND 1999\n",
        "''').show(truncate= False)"
      ],
      "id": "ohtZ9E7xwqHw"
    },
    {
      "cell_type": "code",
      "execution_count": null,
      "metadata": {
        "colab": {
          "base_uri": "https://localhost:8080/"
        },
        "outputId": "1b8b19c0-814b-42c1-8609-914fb15bc539",
        "id": "vS1QQz2w1DiG"
      },
      "outputs": [
        {
          "output_type": "stream",
          "name": "stdout",
          "text": [
            "+----------------------+----+\n",
            "|Ciudad                |Año |\n",
            "+----------------------+----+\n",
            "|Cortina d'Ampezzo     |1956|\n",
            "|Lake Placid           |1980|\n",
            "|Garmisch Partenkirchen|1936|\n",
            "|Innsbruck             |1964|\n",
            "|Chamonix              |1924|\n",
            "|Sapporo               |1972|\n",
            "|Squaw Valley          |1960|\n",
            "|St.Moritz             |1928|\n",
            "|Calgary               |1988|\n",
            "|St.Moritz             |1948|\n",
            "|Albertville           |1992|\n",
            "|Grenoble              |1968|\n",
            "|Innsbruck             |1976|\n",
            "|Oslo                  |1952|\n",
            "|Lillehammer           |1994|\n",
            "|Sarajevo              |1984|\n",
            "|Lake Placid           |1932|\n",
            "|Nagano                |1998|\n",
            "+----------------------+----+\n",
            "\n"
          ]
        }
      ],
      "source": [
        "# Ejemplos de clase 13: WHERE BETWEEN\n",
        "spark.sql('''SELECT DISTINCT City AS Ciudad, Year `Año`\n",
        "            FROM winter\n",
        "            WHERE Year BETWEEN 1900 AND 1999\n",
        "''').show(truncate= False)"
      ],
      "id": "vS1QQz2w1DiG"
    },
    {
      "cell_type": "code",
      "execution_count": null,
      "metadata": {
        "colab": {
          "base_uri": "https://localhost:8080/"
        },
        "outputId": "2d8ac92f-cfc7-4ed1-a2d5-c4f016a799ed",
        "id": "GsMUWzt6zfvm"
      },
      "outputs": [
        {
          "output_type": "stream",
          "name": "stdout",
          "text": [
            "+-------------------+\n",
            "|Athlete            |\n",
            "+-------------------+\n",
            "|HIRVONEN, H.       |\n",
            "|HOLMES, George     |\n",
            "|HAUG, Thorleif     |\n",
            "|HAUG, Thorleif     |\n",
            "|HAUG, Thorleif     |\n",
            "|HAUGEN, Anders     |\n",
            "|HESS, Hans         |\n",
            "|HUBER, Sebastian   |\n",
            "|HEATON, Jennison   |\n",
            "|HINE, Lyman        |\n",
            "|HEATON, Jennison   |\n",
            "|HEATON, John       |\n",
            "|HUDSON, Henry Louis|\n",
            "|HOLMQVIST, Birger  |\n",
            "|HENIE, Sonja       |\n",
            "|HEGGE, Ole         |\n",
            "|HEDLUND, Per Erik  |\n",
            "|HOPMANN, Helmut    |\n",
            "|HUBER, Sebastian   |\n",
            "|HUTH, Werner       |\n",
            "+-------------------+\n",
            "only showing top 20 rows\n",
            "\n",
            "+---------------------+\n",
            "|Athlete              |\n",
            "+---------------------+\n",
            "|HAUG, Thorleif       |\n",
            "|HAUG, Thorleif       |\n",
            "|HAUG, Thorleif       |\n",
            "|SCHJELDERUP, Thorleif|\n",
            "+---------------------+\n",
            "\n",
            "+---------------------+\n",
            "|Athlete              |\n",
            "+---------------------+\n",
            "|SCHJELDERUP, Thorleif|\n",
            "+---------------------+\n",
            "\n"
          ]
        }
      ],
      "source": [
        "# Ejemplos de clase 15: LIKE\n",
        "spark.sql('''SELECT Athlete \n",
        "              FROM winter\n",
        "              WHERE Athlete LIKE \"H%\"\n",
        "''').show(truncate= False)\n",
        "\n",
        "spark.sql('''SELECT Athlete \n",
        "              FROM winter\n",
        "              WHERE Athlete LIKE \"%rlei%\"\n",
        "''').show(truncate= False)\n",
        "\n",
        "spark.sql('''SELECT Athlete \n",
        "              FROM winter\n",
        "              WHERE Athlete LIKE \"_CH%\" AND Athlete LIKE \"%rlei%\"\n",
        "''').show(truncate= False)"
      ],
      "id": "GsMUWzt6zfvm"
    },
    {
      "cell_type": "code",
      "execution_count": null,
      "metadata": {
        "colab": {
          "base_uri": "https://localhost:8080/"
        },
        "outputId": "c88969de-6278-4b47-908f-952308caf6d8",
        "id": "PAUCcqC4v3sz"
      },
      "outputs": [
        {
          "output_type": "stream",
          "name": "stdout",
          "text": [
            "+-------------------------------+----+----------+--------------+\n",
            "|Country                        |Code|Population|GDP per Capita|\n",
            "+-------------------------------+----+----------+--------------+\n",
            "|American Samoa*                |ASA |55538.0   |nan           |\n",
            "|Andorra                        |AND |70473.0   |nan           |\n",
            "|Aruba*                         |ARU |103889.0  |nan           |\n",
            "|Bermuda*                       |BER |65235.0   |nan           |\n",
            "|British Virgin Islands         |IVB |30117.0   |nan           |\n",
            "|Cayman Islands*                |CAY |59967.0   |nan           |\n",
            "|Cook Islands                   |COK |nan       |nan           |\n",
            "|Cuba                           |CUB |11389562.0|nan           |\n",
            "|Eritrea                        |ERI |nan       |nan           |\n",
            "|Guam                           |GUM |169885.0  |nan           |\n",
            "|Iran                           |IRI |79109272.0|nan           |\n",
            "|Korea, North                   |PRK |25155317.0|nan           |\n",
            "|Libya                          |LBA |6278438.0 |nan           |\n",
            "|Liechtenstein                  |LIE |37531.0   |nan           |\n",
            "|Mauritania                     |MTN |4067564.0 |nan           |\n",
            "|Monaco                         |MON |37731.0   |nan           |\n",
            "|Netherlands Antilles*          |AHO |nan       |nan           |\n",
            "|Palestine, Occupied Territories|PLE |nan       |nan           |\n",
            "|Papua New Guinea               |PNG |7619321.0 |nan           |\n",
            "|Puerto Rico*                   |PUR |3474182.0 |nan           |\n",
            "|San Marino                     |SMR |31781.0   |nan           |\n",
            "|Syria                          |SYR |18502413.0|nan           |\n",
            "|Taiwan                         |TPE |nan       |nan           |\n",
            "|Venezuela                      |VEN |31108083.0|nan           |\n",
            "|Virgin Islands*                |ISV |103574.0  |nan           |\n",
            "+-------------------------------+----+----------+--------------+\n",
            "\n",
            "+------------------------+----+------------+----------------+\n",
            "|Country                 |Code|Population  |GDP per Capita  |\n",
            "+------------------------+----+------------+----------------+\n",
            "|Afghanistan             |AFG |32526562.0  |594.323081219966|\n",
            "|Albania                 |ALB |2889167.0   |3945.21758150914|\n",
            "|Algeria                 |ALG |39666519.0  |4206.03123244958|\n",
            "|Angola                  |ANG |25021974.0  |4101.47215182964|\n",
            "|Antigua and Barbuda     |ANT |91818.0     |13714.7319616988|\n",
            "|Argentina               |ARG |43416755.0  |13431.8783398577|\n",
            "|Armenia                 |ARM |3017712.0   |3489.12768956995|\n",
            "|Australia               |AUS |23781169.0  |56310.9629933721|\n",
            "|Austria                 |AUT |8611088.0   |43774.985173612 |\n",
            "|Azerbaijan              |AZE |9651349.0   |5496.34464026248|\n",
            "|Bahamas                 |BAH |388019.0    |22817.2308572518|\n",
            "|Bahrain                 |BRN |1377237.0   |22600.2140981035|\n",
            "|Bangladesh              |BAN |160995642.0 |1211.70153057661|\n",
            "|Barbados                |BAR |284215.0    |15429.3404640853|\n",
            "|Belarus                 |BLR |9513000.0   |5740.45649479562|\n",
            "|Belgium                 |BEL |11285721.0  |40324.0277657215|\n",
            "|Belize                  |BIZ |359287.0    |4878.72126724745|\n",
            "|Benin                   |BEN |10879829.0  |762.051205441965|\n",
            "|Bhutan                  |BHU |774830.0    |2655.99889161858|\n",
            "|Bolivia                 |BOL |10724705.0  |3076.79181060881|\n",
            "|Bosnia and Herzegovina  |BIH |3810416.0   |4249.3303131949 |\n",
            "|Botswana                |BOT |2262485.0   |6360.13822018837|\n",
            "|Brazil                  |BRA |207847528.0 |8538.5899749574 |\n",
            "|Brunei                  |BRU |423188.0    |30554.7296658073|\n",
            "|Bulgaria                |BUL |7177991.0   |6993.47735975728|\n",
            "|Burkina Faso            |BUR |18105570.0  |589.774414136617|\n",
            "|Burundi                 |BDI |11178921.0  |277.068309170914|\n",
            "|Cambodia                |CAM |15577899.0  |1158.6899035244 |\n",
            "|Cameroon                |CMR |23344179.0  |1217.26067048427|\n",
            "|Canada                  |CAN |35851774.0  |43248.529909341 |\n",
            "|Cape Verde              |CPV |520502.0    |3080.17881445563|\n",
            "|Central African Republic|CAF |4900274.0   |323.201674024141|\n",
            "|Chad                    |CHA |14037472.0  |775.695090525313|\n",
            "|Chile                   |CHI |17948141.0  |13416.2300390185|\n",
            "|China                   |CHN |1371220000.0|8027.68381013907|\n",
            "|Colombia                |COL |48228704.0  |6056.14771720405|\n",
            "|Comoros                 |COM |788474.0    |717.448849960912|\n",
            "|Congo                   |CGO |4620330.0   |1851.19991555492|\n",
            "|Congo, Dem Rep          |COD |77266814.0  |456.052740548027|\n",
            "|Costa Rica              |CRC |4807850.0   |11260.0921598775|\n",
            "|Cote d'Ivoire           |CIV |22701556.0  |1398.98995768413|\n",
            "|Croatia                 |CRO |4224404.0   |11535.8293558997|\n",
            "|Cyprus                  |CYP |1165300.0   |23242.8400685313|\n",
            "|Czech Republic          |CZE |10551219.0  |17548.3382129701|\n",
            "|Denmark                 |DEN |5676002.0   |51989.2934712354|\n",
            "|Djibouti                |DJI |887861.0    |1945.12429310444|\n",
            "|Dominica                |DMA |72680.0     |7116.38639189547|\n",
            "|Dominican Republic      |DOM |10528391.0  |6468.4734915433 |\n",
            "|East Timor (Timor-Leste)|TLS |1245015.0   |1157.99295590816|\n",
            "|Ecuador                 |ECU |16144363.0  |6205.06414529951|\n",
            "+------------------------+----+------------+----------------+\n",
            "only showing top 50 rows\n",
            "\n"
          ]
        }
      ],
      "source": [
        "# Ejemplos de clase 16: WHERE IS NULL\n",
        "spark.sql('''SELECT *\n",
        "              FROM dictionary\n",
        "              WHERE `GDP per Capita` IS NULL\n",
        "''').show(50, truncate= False)\n",
        "\n",
        "spark.sql('''SELECT *\n",
        "              FROM dictionary\n",
        "              WHERE `GDP per Capita` IS NOT NULL\n",
        "''').show(50, truncate= False)"
      ],
      "id": "PAUCcqC4v3sz"
    },
    {
      "cell_type": "code",
      "execution_count": null,
      "metadata": {
        "colab": {
          "base_uri": "https://localhost:8080/"
        },
        "outputId": "166f9924-2472-46be-e447-27e0010b2e5c",
        "id": "y-G-7YelIhmP"
      },
      "outputs": [
        {
          "output_type": "stream",
          "name": "stdout",
          "text": [
            "+-------+----+----------+--------------+\n",
            "|Country|Code|Population|GDP per Capita|\n",
            "+-------+----+----------+--------------+\n",
            "+-------+----+----------+--------------+\n",
            "\n",
            "+------------------------+----+------------+----------------+\n",
            "|Country                 |Code|Population  |GDP per Capita  |\n",
            "+------------------------+----+------------+----------------+\n",
            "|Afghanistan             |AFG |32526562.0  |594.323081219966|\n",
            "|Albania                 |ALB |2889167.0   |3945.21758150914|\n",
            "|Algeria                 |ALG |39666519.0  |4206.03123244958|\n",
            "|American Samoa*         |ASA |55538.0     |nan             |\n",
            "|Andorra                 |AND |70473.0     |nan             |\n",
            "|Angola                  |ANG |25021974.0  |4101.47215182964|\n",
            "|Antigua and Barbuda     |ANT |91818.0     |13714.7319616988|\n",
            "|Argentina               |ARG |43416755.0  |13431.8783398577|\n",
            "|Armenia                 |ARM |3017712.0   |3489.12768956995|\n",
            "|Aruba*                  |ARU |103889.0    |nan             |\n",
            "|Australia               |AUS |23781169.0  |56310.9629933721|\n",
            "|Austria                 |AUT |8611088.0   |43774.985173612 |\n",
            "|Azerbaijan              |AZE |9651349.0   |5496.34464026248|\n",
            "|Bahamas                 |BAH |388019.0    |22817.2308572518|\n",
            "|Bahrain                 |BRN |1377237.0   |22600.2140981035|\n",
            "|Bangladesh              |BAN |160995642.0 |1211.70153057661|\n",
            "|Barbados                |BAR |284215.0    |15429.3404640853|\n",
            "|Belarus                 |BLR |9513000.0   |5740.45649479562|\n",
            "|Belgium                 |BEL |11285721.0  |40324.0277657215|\n",
            "|Belize                  |BIZ |359287.0    |4878.72126724745|\n",
            "|Bermuda*                |BER |65235.0     |nan             |\n",
            "|Benin                   |BEN |10879829.0  |762.051205441965|\n",
            "|Bhutan                  |BHU |774830.0    |2655.99889161858|\n",
            "|Bolivia                 |BOL |10724705.0  |3076.79181060881|\n",
            "|Bosnia and Herzegovina  |BIH |3810416.0   |4249.3303131949 |\n",
            "|Botswana                |BOT |2262485.0   |6360.13822018837|\n",
            "|Brazil                  |BRA |207847528.0 |8538.5899749574 |\n",
            "|British Virgin Islands  |IVB |30117.0     |nan             |\n",
            "|Brunei                  |BRU |423188.0    |30554.7296658073|\n",
            "|Bulgaria                |BUL |7177991.0   |6993.47735975728|\n",
            "|Burkina Faso            |BUR |18105570.0  |589.774414136617|\n",
            "|Burundi                 |BDI |11178921.0  |277.068309170914|\n",
            "|Cambodia                |CAM |15577899.0  |1158.6899035244 |\n",
            "|Cameroon                |CMR |23344179.0  |1217.26067048427|\n",
            "|Canada                  |CAN |35851774.0  |43248.529909341 |\n",
            "|Cape Verde              |CPV |520502.0    |3080.17881445563|\n",
            "|Cayman Islands*         |CAY |59967.0     |nan             |\n",
            "|Central African Republic|CAF |4900274.0   |323.201674024141|\n",
            "|Chad                    |CHA |14037472.0  |775.695090525313|\n",
            "|Chile                   |CHI |17948141.0  |13416.2300390185|\n",
            "|China                   |CHN |1371220000.0|8027.68381013907|\n",
            "|Colombia                |COL |48228704.0  |6056.14771720405|\n",
            "|Comoros                 |COM |788474.0    |717.448849960912|\n",
            "|Congo                   |CGO |4620330.0   |1851.19991555492|\n",
            "|Congo, Dem Rep          |COD |77266814.0  |456.052740548027|\n",
            "|Cook Islands            |COK |nan         |nan             |\n",
            "|Costa Rica              |CRC |4807850.0   |11260.0921598775|\n",
            "|Cote d'Ivoire           |CIV |22701556.0  |1398.98995768413|\n",
            "|Croatia                 |CRO |4224404.0   |11535.8293558997|\n",
            "|Cuba                    |CUB |11389562.0  |nan             |\n",
            "+------------------------+----+------------+----------------+\n",
            "only showing top 50 rows\n",
            "\n"
          ]
        }
      ],
      "source": [
        "# Ejemplos de clase 16: WHERE IS NULL\n",
        "spark.sql('''SELECT *\n",
        "              FROM dictionary\n",
        "              WHERE `GDP per Capita` IS NULL\n",
        "''').show(50, truncate= False)\n",
        "\n",
        "spark.sql('''SELECT *\n",
        "              FROM dictionary\n",
        "              WHERE `GDP per Capita` IS NOT NULL\n",
        "''').show(50, truncate= False)"
      ],
      "id": "y-G-7YelIhmP"
    },
    {
      "cell_type": "code",
      "execution_count": null,
      "metadata": {
        "colab": {
          "base_uri": "https://localhost:8080/"
        },
        "outputId": "0945bcbf-5dc3-4991-b349-ed8dffb10378",
        "id": "G_EyCCrixo36"
      },
      "outputs": [
        {
          "output_type": "stream",
          "name": "stdout",
          "text": [
            "+------------------------+----+-----------+----------------+\n",
            "|Country                 |Code|Population |GDP per Capita  |\n",
            "+------------------------+----+-----------+----------------+\n",
            "|Luxembourg              |LUX |569676.0   |101449.968168042|\n",
            "|Kazakhstan              |KAZ |17544126.0 |10509.9810699442|\n",
            "|Lesotho                 |LES |2135022.0  |1066.98562625017|\n",
            "|Kyrgyzstan              |KGZ |5957000.0  |1103.2153515202 |\n",
            "|Costa Rica              |CRC |4807850.0  |11260.0921598775|\n",
            "|Croatia                 |CRO |4224404.0  |11535.8293558997|\n",
            "|East Timor (Timor-Leste)|TLS |1245015.0  |1157.99295590816|\n",
            "|Cambodia                |CAM |15577899.0 |1158.6899035244 |\n",
            "|Burma                   |MYA |53897154.0 |1161.48815791087|\n",
            "|Bangladesh              |BAN |160995642.0|1211.70153057661|\n",
            "|Cameroon                |CMR |23344179.0 |1217.26067048427|\n",
            "|Hungary                 |HUN |9844686.0  |12363.5434596539|\n",
            "|Poland                  |POL |37999494.0 |12554.5475536313|\n",
            "|Zambia                  |ZAM |16211767.0 |1304.87901447726|\n",
            "|Panama                  |PAN |3929141.0  |13268.1137549335|\n",
            "|Chile                   |CHI |17948141.0 |13416.2300390185|\n",
            "|Argentina               |ARG |43416755.0 |13431.8783398577|\n",
            "|Palau                   |PLW |21291.0    |13498.661406228 |\n",
            "|Latvia                  |LAT |1978440.0  |13648.5475564772|\n",
            "|Ghana                   |GHA |27409893.0 |1369.70112227585|\n",
            "+------------------------+----+-----------+----------------+\n",
            "only showing top 20 rows\n",
            "\n",
            "+-------------------------------+----+----------+--------------+\n",
            "|Country                        |Code|Population|GDP per Capita|\n",
            "+-------------------------------+----+----------+--------------+\n",
            "|Liechtenstein                  |LIE |37531.0   |nan           |\n",
            "|Palestine, Occupied Territories|PLE |nan       |nan           |\n",
            "|Taiwan                         |TPE |nan       |nan           |\n",
            "|Virgin Islands*                |ISV |103574.0  |nan           |\n",
            "|Venezuela                      |VEN |31108083.0|nan           |\n",
            "|American Samoa*                |ASA |55538.0   |nan           |\n",
            "|Monaco                         |MON |37731.0   |nan           |\n",
            "|Cook Islands                   |COK |nan       |nan           |\n",
            "|Netherlands Antilles*          |AHO |nan       |nan           |\n",
            "|Libya                          |LBA |6278438.0 |nan           |\n",
            "|Eritrea                        |ERI |nan       |nan           |\n",
            "|Korea, North                   |PRK |25155317.0|nan           |\n",
            "|British Virgin Islands         |IVB |30117.0   |nan           |\n",
            "|Cayman Islands*                |CAY |59967.0   |nan           |\n",
            "|Guam                           |GUM |169885.0  |nan           |\n",
            "|Bermuda*                       |BER |65235.0   |nan           |\n",
            "|Andorra                        |AND |70473.0   |nan           |\n",
            "|Iran                           |IRI |79109272.0|nan           |\n",
            "|Aruba*                         |ARU |103889.0  |nan           |\n",
            "|Cuba                           |CUB |11389562.0|nan           |\n",
            "+-------------------------------+----+----------+--------------+\n",
            "only showing top 20 rows\n",
            "\n",
            "+------------------------+----------------+\n",
            "|Country                 |Renta per capita|\n",
            "+------------------------+----------------+\n",
            "|Burundi                 |277.0683        |\n",
            "|Central African Republic|323.20166       |\n",
            "|Niger                   |358.95816       |\n",
            "|Malawi                  |371.98575       |\n",
            "|Madagascar              |401.836         |\n",
            "|Liberia                 |455.87393       |\n",
            "|Congo, Dem Rep          |456.05273       |\n",
            "|Gambia                  |471.5372        |\n",
            "|Mozambique              |529.24255       |\n",
            "|Guinea                  |531.3206        |\n",
            "|Somalia                 |549.26697       |\n",
            "|Togo                    |559.63586       |\n",
            "|Guinea-Bissau           |572.9884        |\n",
            "|Burkina Faso            |589.7744        |\n",
            "|Afghanistan             |594.32306       |\n",
            "|Ethiopia                |619.16943       |\n",
            "|Sierra Leone            |653.13184       |\n",
            "|Rwanda                  |697.3482        |\n",
            "|Uganda                  |705.29254       |\n",
            "|Comoros                 |717.44885       |\n",
            "+------------------------+----------------+\n",
            "only showing top 20 rows\n",
            "\n"
          ]
        }
      ],
      "source": [
        "# Ejemplos de clase 16: WHERE IS NULL\n",
        "spark.sql('''SELECT *\n",
        "              FROM dictionary\n",
        "              ORDER BY `GDP per Capita`\n",
        "''').show(truncate= False)\n",
        "\n",
        "spark.sql('''SELECT *\n",
        "              FROM dictionary\n",
        "              WHERE `GDP per Capita` IS NOT NULL\n",
        "              ORDER BY CAST(`GDP per Capita` AS FLOAT) DESC\n",
        "''').show(truncate= False)\n",
        "\n",
        "spark.sql('''SELECT Country, CAST(`GDP per Capita` AS FLOAT) AS `Renta per capita`\n",
        "              FROM dictionary\n",
        "              WHERE `GDP per Capita` IS NOT NULL\n",
        "              ORDER BY `Renta per capita`\n",
        "''').show(truncate= False)\n"
      ],
      "id": "G_EyCCrixo36"
    },
    {
      "cell_type": "code",
      "source": [
        "# Ejemplos de clase 17: ORDER BY varios niveles\n",
        "spark.sql('''SELECT *\n",
        "              FROM winter\n",
        "              WHERE Medal=\"Gold\"\n",
        "              ORDER BY Discipline, Country DESC, Gender, Athlete DESC\n",
        "''').show(truncate= False)\n",
        "\n",
        "spark.sql('''SELECT Discipline AS Disciplina, Athlete, Country, Gender\n",
        "              FROM winter\n",
        "              WHERE Medal=\"Gold\"\n",
        "              ORDER BY Disciplina\n",
        "''').show( truncate= False)\n",
        "\n",
        "spark.sql('''SELECT Discipline AS Disciplina, Athlete, Country, Gender\n",
        "              FROM winter\n",
        "              WHERE Medal=\"Gold\"\n",
        "              ORDER BY 1, 3, 4, 2\n",
        "''').show( truncate= False)"
      ],
      "metadata": {
        "colab": {
          "base_uri": "https://localhost:8080/"
        },
        "id": "t3z7OlXIMbPA",
        "outputId": "f9aab7e3-e2c1-41ae-d369-400954439ce0"
      },
      "execution_count": null,
      "outputs": [
        {
          "output_type": "stream",
          "name": "stdout",
          "text": [
            "+----+-----------+------+-------------+---------------------+-------+------+---------------+-----+\n",
            "|Year|City       |Sport |Discipline   |Athlete              |Country|Gender|Event          |Medal|\n",
            "+----+-----------+------+-------------+---------------------+-------+------+---------------+-----+\n",
            "|1994|Lillehammer|Skiing|Alpine Skiing|MOE, Thomas          |USA    |Men   |Downhill       |Gold |\n",
            "|2010|Vancouver  |Skiing|Alpine Skiing|MILLER, Bode         |USA    |Men   |Super Combined |Gold |\n",
            "|1984|Sarajevo   |Skiing|Alpine Skiing|MAHRE, Phillip       |USA    |Men   |Slalom         |Gold |\n",
            "|2006|Turin      |Skiing|Alpine Skiing|LIGETY, Ted          |USA    |Men   |Alpine Combined|Gold |\n",
            "|2014|Sochi      |Skiing|Alpine Skiing|LIGETY, Ted          |USA    |Men   |Giant Slalom   |Gold |\n",
            "|1984|Sarajevo   |Skiing|Alpine Skiing|JOHNSON, William     |USA    |Men   |Downhill       |Gold |\n",
            "|2010|Vancouver  |Skiing|Alpine Skiing|VONN, Lindsey        |USA    |Women |Downhill       |Gold |\n",
            "|1998|Nagano     |Skiing|Alpine Skiing|STREET, Picabo       |USA    |Women |Super-G        |Gold |\n",
            "|2014|Sochi      |Skiing|Alpine Skiing|SHIFFRIN, Mikaela    |USA    |Women |Slalom         |Gold |\n",
            "|1994|Lillehammer|Skiing|Alpine Skiing|ROFFE, Diann         |USA    |Women |Super-G        |Gold |\n",
            "|1952|Oslo       |Skiing|Alpine Skiing|MEAD LAWRENCE, Andrea|USA    |Women |Giant Slalom   |Gold |\n",
            "|1952|Oslo       |Skiing|Alpine Skiing|MEAD LAWRENCE, Andrea|USA    |Women |Slalom         |Gold |\n",
            "|2006|Turin      |Skiing|Alpine Skiing|MANCUSO, Julia       |USA    |Women |Giant Slalom   |Gold |\n",
            "|1948|St.Moritz  |Skiing|Alpine Skiing|FRASER, Gretchen     |USA    |Women |Slalom         |Gold |\n",
            "|1972|Sapporo    |Skiing|Alpine Skiing|COCHRAN, Barbara     |USA    |Women |Slalom         |Gold |\n",
            "|1984|Sarajevo   |Skiing|Alpine Skiing|ARMSTRONG, Debbie    |USA    |Women |Giant Slalom   |Gold |\n",
            "|1980|Lake Placid|Skiing|Alpine Skiing|STENMARK, Ingemar    |SWE    |Men   |Giant Slalom   |Gold |\n",
            "|1980|Lake Placid|Skiing|Alpine Skiing|STENMARK, Ingemar    |SWE    |Men   |Slalom         |Gold |\n",
            "|1994|Lillehammer|Skiing|Alpine Skiing|WIBERG, Pernilla     |SWE    |Women |Alpine Combined|Gold |\n",
            "|1992|Albertville|Skiing|Alpine Skiing|WIBERG, Pernilla     |SWE    |Women |Giant Slalom   |Gold |\n",
            "+----+-----------+------+-------------+---------------------+-------+------+---------------+-----+\n",
            "only showing top 20 rows\n",
            "\n",
            "+-------------+------------------------+-------+------+\n",
            "|Disciplina   |Athlete                 |Country|Gender|\n",
            "+-------------+------------------------+-------+------+\n",
            "|Alpine Skiing|AAMODT, Kjetil Andre    |NOR    |Men   |\n",
            "|Alpine Skiing|DEFAGO, Didier          |SUI    |Men   |\n",
            "|Alpine Skiing|KOSTELIC, Janica        |CRO    |Women |\n",
            "|Alpine Skiing|WASMEIER, Markus        |GER    |Men   |\n",
            "|Alpine Skiing|STROBL, Fritz           |AUT    |Men   |\n",
            "|Alpine Skiing|SCHNEIDER, Vreni        |SUI    |Women |\n",
            "|Alpine Skiing|MONTILLET-CARLES, Carole|FRA    |Women |\n",
            "|Alpine Skiing|CRETIER, Jean-Luc       |FRA    |Men   |\n",
            "|Alpine Skiing|EBERHARTER, Stephan     |AUT    |Men   |\n",
            "|Alpine Skiing|MAIER, Hermann          |AUT    |Men   |\n",
            "|Alpine Skiing|KOSTELIC, Janica        |CRO    |Women |\n",
            "|Alpine Skiing|BURAAS, Hans-Petter     |NOR    |Men   |\n",
            "|Alpine Skiing|VIDAL, Jean-Pierre      |FRA    |Men   |\n",
            "|Alpine Skiing|MAIER, Hermann          |AUT    |Men   |\n",
            "|Alpine Skiing|KOSTELIC, Janica        |CRO    |Women |\n",
            "|Alpine Skiing|LIGETY, Ted             |USA    |Men   |\n",
            "|Alpine Skiing|KOSTELIC, Janica        |CRO    |Women |\n",
            "|Alpine Skiing|REITER, Mario           |AUT    |Men   |\n",
            "|Alpine Skiing|DENERIAZ, Antoine       |FRA    |Men   |\n",
            "|Alpine Skiing|SEIZINGER, Katja        |GER    |Women |\n",
            "+-------------+------------------------+-------+------+\n",
            "only showing top 20 rows\n",
            "\n",
            "+-------------+---------------------+-------+------+\n",
            "|Disciplina   |Athlete              |Country|Gender|\n",
            "+-------------+---------------------+-------+------+\n",
            "|Alpine Skiing|EBERHARTER, Stephan  |AUT    |Men   |\n",
            "|Alpine Skiing|HINTERSEER, Ernst    |AUT    |Men   |\n",
            "|Alpine Skiing|KLAMMER, Franz       |AUT    |Men   |\n",
            "|Alpine Skiing|MAIER, Hermann       |AUT    |Men   |\n",
            "|Alpine Skiing|MAIER, Hermann       |AUT    |Men   |\n",
            "|Alpine Skiing|MATT, Mario          |AUT    |Men   |\n",
            "|Alpine Skiing|MAYER, Matthias      |AUT    |Men   |\n",
            "|Alpine Skiing|ORTLIEB, Patrick     |AUT    |Men   |\n",
            "|Alpine Skiing|RAICH, Benjamin      |AUT    |Men   |\n",
            "|Alpine Skiing|RAICH, Benjamin      |AUT    |Men   |\n",
            "|Alpine Skiing|REITER, Mario        |AUT    |Men   |\n",
            "|Alpine Skiing|SAILER, Anton        |AUT    |Men   |\n",
            "|Alpine Skiing|SAILER, Anton        |AUT    |Men   |\n",
            "|Alpine Skiing|SAILER, Anton        |AUT    |Men   |\n",
            "|Alpine Skiing|SCHNEIDER, Othmar    |AUT    |Men   |\n",
            "|Alpine Skiing|STANGASSINGER, Thomas|AUT    |Men   |\n",
            "|Alpine Skiing|STIEGLER, Josef      |AUT    |Men   |\n",
            "|Alpine Skiing|STOCK, Leonhard      |AUT    |Men   |\n",
            "|Alpine Skiing|STROBL, Fritz        |AUT    |Men   |\n",
            "|Alpine Skiing|STROLZ, Hubert       |AUT    |Men   |\n",
            "+-------------+---------------------+-------+------+\n",
            "only showing top 20 rows\n",
            "\n"
          ]
        }
      ],
      "id": "t3z7OlXIMbPA"
    },
    {
      "cell_type": "code",
      "source": [
        "# Ejemplos de clase 17: ORDER BY varios niveles\n",
        "spark.sql('''SELECT Athlete AS Atleta, Country, Medal\n",
        "              FROM winter\n",
        "              WHERE Medal=\"Gold\"\n",
        "              ORDER BY Atleta\n",
        "''').show(truncate= False)\n",
        "\n",
        "spark.sql('''SELECT Code, CAST (Population AS INT)\n",
        "              FROM dictionary\n",
        "              WHERE Population <= 2000000\n",
        "''').show(truncate= False)\n",
        "\n"
      ],
      "metadata": {
        "colab": {
          "base_uri": "https://localhost:8080/"
        },
        "outputId": "8f0cd506-f1f0-4e96-e9f1-5d6ae754706d",
        "id": "L0YEq0hWQfbG"
      },
      "execution_count": null,
      "outputs": [
        {
          "output_type": "stream",
          "name": "stdout",
          "text": [
            "+--------------------+-------+-----+\n",
            "|Atleta              |Country|Medal|\n",
            "+--------------------+-------+-----+\n",
            "|AAMODT, Kjetil Andre|NOR    |Gold |\n",
            "|AAMODT, Kjetil Andre|NOR    |Gold |\n",
            "|AAMODT, Kjetil Andre|NOR    |Gold |\n",
            "|AAMODT, Kjetil Andre|NOR    |Gold |\n",
            "|AAS, Roald          |NOR    |Gold |\n",
            "|ABE, Masashi        |JPN    |Gold |\n",
            "|ABEL, George Gordon |CAN    |Gold |\n",
            "|ACKLIN, Donat       |SUI    |Gold |\n",
            "|ACKLIN, Donat       |SUI    |Gold |\n",
            "|ADAM, Mike          |CAN    |Gold |\n",
            "|AGOSTA, Meghan      |CAN    |Gold |\n",
            "|AGOSTA, Meghan      |CAN    |Gold |\n",
            "|AGOSTA, Meghan      |CAN    |Gold |\n",
            "|AHN, Hyun-Soo       |KOR    |Gold |\n",
            "|AHN, Hyun-Soo       |KOR    |Gold |\n",
            "|AHN, Hyun-Soo       |KOR    |Gold |\n",
            "|AIKMAN, T.          |GBR    |Gold |\n",
            "|AKHATOVA, Albina    |RUS    |Gold |\n",
            "|ALATALO, Toimi      |FIN    |Gold |\n",
            "|ALBARELLO, Marco    |ITA    |Gold |\n",
            "+--------------------+-------+-----+\n",
            "only showing top 20 rows\n",
            "\n",
            "+----+----------+\n",
            "|Code|Population|\n",
            "+----+----------+\n",
            "|ASA |55538     |\n",
            "|AND |70473     |\n",
            "|ANT |91818     |\n",
            "|ARU |103889    |\n",
            "|BAH |388019    |\n",
            "|BRN |1377237   |\n",
            "|BAR |284215    |\n",
            "|BIZ |359287    |\n",
            "|BER |65235     |\n",
            "|BHU |774830    |\n",
            "|IVB |30117     |\n",
            "|BRU |423188    |\n",
            "|CPV |520502    |\n",
            "|CAY |59967     |\n",
            "|COM |788474    |\n",
            "|CYP |1165300   |\n",
            "|DJI |887861    |\n",
            "|DMA |72680     |\n",
            "|TLS |1245015   |\n",
            "|GEQ |845060    |\n",
            "+----+----------+\n",
            "only showing top 20 rows\n",
            "\n"
          ]
        }
      ],
      "id": "L0YEq0hWQfbG"
    },
    {
      "cell_type": "code",
      "source": [
        "# Ejemplos de clase 17: ORDER BY varios niveles\n",
        "spark.sql('''SELECT Athlete AS Atleta, Country, Year, City\n",
        "              FROM winter\n",
        "              WHERE Medal=\"Gold\" AND Country IN (SELECT Code\n",
        "                                                FROM dictionary\n",
        "                                                WHERE Population <= 2000000)\n",
        "              ORDER BY Year\n",
        "''').show(truncate= False)\n",
        "\n"
      ],
      "metadata": {
        "colab": {
          "base_uri": "https://localhost:8080/"
        },
        "outputId": "08d45b74-cce3-41a6-8b3f-5fdbfc6620f4",
        "id": "ALCYhcpRTy7x"
      },
      "execution_count": null,
      "outputs": [
        {
          "output_type": "stream",
          "name": "stdout",
          "text": [
            "+----------------+-------+----+--------------+\n",
            "|Atleta          |Country|Year|City          |\n",
            "+----------------+-------+----+--------------+\n",
            "|WENZEL, Hanni   |LIE    |1980|Lake Placid   |\n",
            "|WENZEL, Hanni   |LIE    |1980|Lake Placid   |\n",
            "|VEERPALU, Andrus|EST    |2002|Salt Lake City|\n",
            "|SMIGUN, Kristina|EST    |2006|Turin         |\n",
            "|VEERPALU, Andrus|EST    |2006|Turin         |\n",
            "|SMIGUN, Kristina|EST    |2006|Turin         |\n",
            "+----------------+-------+----+--------------+\n",
            "\n"
          ]
        }
      ],
      "id": "ALCYhcpRTy7x"
    },
    {
      "cell_type": "markdown",
      "id": "fatal-reform",
      "metadata": {
        "id": "fatal-reform"
      },
      "source": [
        "### Resources\n",
        "\n",
        "[Pyspark Operations](https://hendra-herviawan.github.io/)\n",
        "\n",
        "[Spark SQL string Functions](https://sparkbyexamples.com/spark/usage-of-spark-sql-string-functions/)"
      ]
    },
    {
      "cell_type": "markdown",
      "id": "excited-wrist",
      "metadata": {
        "id": "excited-wrist"
      },
      "source": [
        "[Pyspark From Pandas](https://databricks.com/session/data-wrangling-with-pyspark-for-data-scientists-who-know-pandas)"
      ]
    }
  ],
  "metadata": {
    "kernelspec": {
      "display_name": "Python 3",
      "language": "python",
      "name": "python3"
    },
    "language_info": {
      "codemirror_mode": {
        "name": "ipython",
        "version": 3
      },
      "file_extension": ".py",
      "mimetype": "text/x-python",
      "name": "python",
      "nbconvert_exporter": "python",
      "pygments_lexer": "ipython3",
      "version": "3.8.6"
    },
    "colab": {
      "provenance": [],
      "collapsed_sections": [
        "accompanied-nylon"
      ]
    }
  },
  "nbformat": 4,
  "nbformat_minor": 5
}